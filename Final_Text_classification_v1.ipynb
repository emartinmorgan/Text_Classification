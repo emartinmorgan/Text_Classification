{
  "nbformat": 4,
  "nbformat_minor": 0,
  "metadata": {
    "colab": {
      "provenance": [],
      "authorship_tag": "ABX9TyOZ0yZV1B5O3NHSYFLhGpdJ",
      "include_colab_link": true
    },
    "kernelspec": {
      "name": "python3",
      "display_name": "Python 3"
    }
  },
  "cells": [
    {
      "cell_type": "markdown",
      "metadata": {
        "id": "view-in-github",
        "colab_type": "text"
      },
      "source": [
        "<a href=\"https://colab.research.google.com/github/emartinmorgan/Text_Classification/blob/main/Final_Text_classification_v1.ipynb\" target=\"_parent\"><img src=\"https://colab.research.google.com/assets/colab-badge.svg\" alt=\"Open In Colab\"/></a>"
      ]
    },
    {
      "cell_type": "code",
      "metadata": {
        "id": "_Es-zziFHtqY"
      },
      "source": [
        "# there are many diff ways to chunk up text (feature transformation - creating features)\n",
        "# we can create features from text and use these to train an algorithm to predict the type of article based on a given feature\n",
        "# which feature is best to use?\n",
        "#"
      ],
      "execution_count": null,
      "outputs": []
    },
    {
      "cell_type": "code",
      "metadata": {
        "colab": {
          "base_uri": "https://localhost:8080/"
        },
        "id": "n1qlIuIJ-Iwk",
        "outputId": "fe4670b4-7872-4caa-973f-9aba90e67e29"
      },
      "source": [
        "from google.colab import drive\n",
        "drive.mount('/content/drive')"
      ],
      "execution_count": null,
      "outputs": [
        {
          "output_type": "stream",
          "text": [
            "Mounted at /content/drive\n"
          ],
          "name": "stdout"
        }
      ]
    },
    {
      "cell_type": "code",
      "metadata": {
        "colab": {
          "base_uri": "https://localhost:8080/"
        },
        "id": "p-FHX35q5HEL",
        "outputId": "1baa9ea7-4a74-44a6-c8f6-db791d51bb64"
      },
      "source": [
        "from sklearn import ensemble, decomposition\n",
        "import  xgboost, textblob, string\n",
        "import numpy as np\n",
        "import pandas as pd\n",
        "from sklearn import preprocessing, model_selection, metrics, svm, linear_model, naive_bayes, discriminant_analysis\n",
        "from sklearn.feature_extraction.text import CountVectorizer, TfidfVectorizer\n",
        "from matplotlib import pyplot as plt\n",
        "import seaborn as sns\n",
        "from google.colab import files\n",
        "print(\"hello world\")"
      ],
      "execution_count": null,
      "outputs": [
        {
          "output_type": "stream",
          "text": [
            "hello world\n"
          ],
          "name": "stdout"
        }
      ]
    },
    {
      "cell_type": "code",
      "metadata": {
        "id": "6f1H_LDh5eIN"
      },
      "source": [
        "# -*- coding: utf-8 -*-\n",
        "#print(\"hello world\")\n",
        "input_data = open('drive/MyDrive/OSU - BMI/2020 Autumn/Topics in BMI/HW/Final/phenotype_all.txt',encoding=\"utf8\").read()\n",
        "output_labels, texts = [], []\n",
        "seed = 7\n",
        "np.random.seed(seed)\n",
        "for i, line in enumerate(input_data.split(\"\\n\")):\n",
        "    content = line.split()\n",
        "    print(content)\n",
        "    output_labels.append(content[0])\n",
        "    texts.append(\" \".join(content[1:]))\n",
        "train_data_DF = pd.DataFrame()\n",
        "train_data_DF['text'] = texts\n",
        "train_data_DF['label'] = output_labels\n",
        "# print(texts)\n",
        "# print(output_labels)\n",
        "print(train_data_DF)\n",
        "\n"
      ],
      "execution_count": null,
      "outputs": []
    },
    {
      "cell_type": "code",
      "metadata": {
        "colab": {
          "base_uri": "https://localhost:8080/"
        },
        "id": "T17hXkXD5l8Y",
        "outputId": "6ff4b4db-8c11-4022-bcb1-4adae17fa06a"
      },
      "source": [
        "# Split training and validation set. Four variables below. X is text, Y is label, each have train and validation set\n",
        "train_data_x, valid_data_x, train_data_y, valid_data_y = model_selection.train_test_split(train_data_DF['text'], train_data_DF['label'], test_size=0.25, random_state=seed)\n",
        "valid_data_x_list = valid_data_x.tolist()\n",
        "valid_data_y_list = valid_data_y.tolist()\n",
        "print(train_data_x)\n",
        "print(train_data_y)\n",
        "# print(train_data_y)\n",
        "# print(valid_data_y)\n",
        "\n",
        "# Want to convert to lists so that we can use them more easily in later code\n",
        "# train_data_x is count vectorization of training data in text format, train_data_y is training data in binary 01 form?\n",
        "\n",
        "print(\"this is list: \", valid_data_x_list)\n",
        "print(\"this is a list: \", valid_data_y_list)\n",
        "# # Since 40% validation/test then only 4 out of 10 lines are shown as outcomes. First two are from negs and next two are from pos"
      ],
      "execution_count": null,
      "outputs": [
        {
          "output_type": "stream",
          "text": [
            "132    We used baseline data from a special case-mix ...\n",
            "407    The estimated date of conception (EDC) was cal...\n",
            "676    13 Strokes were defined as the presence of a c...\n",
            "377    Specific cardiac events included: angina pecto...\n",
            "48     Mortality analysis To examine the prognosis of...\n",
            "                             ...                        \n",
            "579    An atypical nevus was defined as having a diam...\n",
            "502    A subject was classified as having diabetes if...\n",
            "537    Diagnosis of AMI was based on the presence of ...\n",
            "196    For all the end points except death, the cardi...\n",
            "175    Significant extra-renal atherosclerosis was pr...\n",
            "Name: text, Length: 554, dtype: object\n",
            "132    0\n",
            "407    0\n",
            "676    1\n",
            "377    0\n",
            "48     0\n",
            "      ..\n",
            "579    1\n",
            "502    1\n",
            "537    1\n",
            "196    0\n",
            "175    0\n",
            "Name: label, Length: 554, dtype: object\n",
            "this is list:  ['Clinical diagnosis of BrOb was defined by moderate to severe obstructive ventilatory defects: forced expiratory volume in 1 second (FEV1) lt;70% and FEV1/forced vital capacity lt;80% of the predicted value [7,8] along with typical changes on high-resolution computed tomography.', 'Altogether, the proportion ofpatients receiving skull x ray examination or admitted varied from 25%/o-60% and 70/%23% respectively; overall, 69% (1280/1856) and 64% (1177/1851) of patients were managed appropriately.', 'Patients were excluded from study participation if they were ineligible for thrombolytic therapy (history of stroke or transient cerebral event in the last six months, major surgery or active gastrointestinal bleeding within the previous two months, organ biopsy within two weeks, cardiopulmonary resuscitation lasting _10 min or resulting in rib fracture, systolic BP gt;200 mm Hg or diastolic BP gt;110 mm Hg), had cardiogenic shock (defined as systolic BP _80 mm Hg in the absence of bradycardia or requiring vasopressors) or had a life-expectancy of less than one year.', 'For example, if the index individual reported that the maternal grandmother of an index individual had died from breast cancer and this could not be verified in the cancer register, the mother and all siblings of the index individual were included in the analysis of high-risk women with one FDR or second-degree relative with breast cancer other than the index woman (Fig.', 'In addition, it was anticipated that ADHD patients would have less weight loss, fewer visits and shorter duration of treatment than their nonADHD peers.', 'Cardiogenic shock was defined as systolic blood pressure lt;90 mm Hg for _1 h that was not responsive to fluid administration alone, thought to be secondary to cardiac dysfunction, and associated with signs of hypoperfusion or cardiac index _2.2 liters/min/mm2and pulmonary capillary wedge pressure gt;18 mm Hg.', 'Cineangiograms were reviewed at an independent core laboratory to assess the coronary anatomy, visually estimate TIMI flow grades (15)and determine the degree of stenosis by means of a computerized edge-detection algorithm (16).', 'Agreement between the patient and the hospital record was assessed using the K statistic0 for the more prevalent symptoms of nausea or vomiting, headache, sore throat, and back pain.', '__ecurrent ischemia_ was defined as clinical symptoms associated with either new electrocardiographic ST segment or T wave changes, hypotension, new murmur, CK-MB elevation or necessity for urgent repeat PTCA or CABG.', 'Analysis of nursing notes was stopped when no more new phrases were found__or each subject category this occurred when the nursing notes of around 15 patients had been analyzed.', 'All inhabitants of a suburb of Rotterdam, aged 55 years and over, were invited (response 78%).', 'Clinical events, including death, predischarge HF (presence of new symptoms of dyspnea and/or edema, with one or more of ventricular gallop rhythm, pulmonary crepitations, elevated venous pressure and/or radiologic evidence of left ventricular failure) and later readmissions for HF (similarly defined), were recorded for a mean follow-up period of two years.', \"Patients with so-called accelerated ventricular rhythm, defined as ventricular rate only20% faster than the child's concurrent sinus rhythm, were excluded (12).\", 'Inclusion criteria for enrollment into the study included: established residence in the Lorraine region, age between 20 and 80 (inclusive), admission to hospital during 1994, diagnosis fo advanced CHF (defined as at least one hospital admission during a one-year period with NYHA class III or IV symptoms of CHF, radiological and clinical signs of pulmonary congestion, and/or signs of peripheral edema, left ventricular ejection fraction [LVEF]<30% [determined by the technique routinely available in the hospital concerned, mainly echocardiography] or a cardiothoracic ratio [CTR]>60%).', 'Of them, 133 (48%) underwent interruption of pulmonary vein before artery (designated __-first_) and 146 (52%) underwent interruption of pulmonary artery first (designated __-first_).', 'Urinary tract infection was defined as a urine culture with $50,000 colonies of a single organism with or without symptoms.', 'ACF was defined as a presence of metabolic acidosis (base deficit gt;4) and/or hyperlactatemia (arterial lactate gt;2mmol/l) during the first 24 hours of ICU care.', 'Main measures Conformity with a checklist of important aspects of the process of asthma management including initial assessment, treatment, supervision, and discharge and review arrangements.', 'Characteristics of the parents summarized in Table 1 were evaluated for inclusion in the model.', 'Study variables The following variables were prospectively recorded by a trained medical investigator at each center: demographic data, history of hypertension, diabetes, chronic obstructive pulmonary disease, peripheral vascular disease, smoking status, previous angina, acute pulmonary edema or cardiogenic shock, ECG changes during admission, presence of severe arrhythmia (defined as the occurrence of at least one episode of sustained ventricular tachycardia requiring immediate medical intervention or ventricular fibrillation), delay from onset of symptoms to first monitoring in an emergency room, hospital stay, exercise test, coronary angiography, PTCA and CABG.', 'Hypertension was diagnosed if blood pressure exceeded either 160 mm Hg systolic or 90 mm Hg diastolic on repeated observations over six months or if chronic antihypertensive medication was required.', 'Diagnostic and therapeutic approaches for nonmetastatic breast cancer in Canada, and their associated costs.', 'Because we were interested in septicemia acquired in the outpatient setting, we limited the outcome variable to patients with a primary diagnosis code of septicemia.', 'Each ECG was classified into one of seven categories using a closed question format (40): 1) normal (no electrocardiographic evidence of ischemia); 2) nonspecific (accepted deviation from the norm with the lowest likelihood of ischemia such as an abnormal T-wave axis in lead III or sinus tachycardia); 3) early repolarization variant (elevated takeoff of the ST segment at the J point of the QRS complex greater than 1 mm relative to the isoelectric line, downward concavity of the ST segment and symmetrically peaked T waves often of large amplitude); 4) abnormal but nondiagnostic of myocardial ischemia (prolonged QRS, corrected QT intervals, bundle branch blocks, left ventricular hypertrophy with strain); 5) ischemia or prior infarction known to be old (ST depression more than 0.1 mV measured 80 ms from the J point, inverted T waves more than 0.3 mV or Q waves at least 30 ms in duration); 6) ischemia or prior infarction not known to be old, or 7) suggestive of AMI (ST elevation greater than 0.1 mV measured 80 ms from the J point in two or more contiguous leads, with or without reciprocal ST depressions).', 'Thus, we identified 214 eligible patients with severe intermittent claudication Fontaine stage IIb at least of one lower limb.', 'Place of residence was classified into 28 district health authorities.', 'A nondiagnostic test was defined by absence of ECG evidence of ischemia at a heart rate lt;85% of age-predicted maximum.', '2 For this analysis all the interim scans (between the first follow-up and last CT scan) were used, and patients who subsequently underwent operation were included as free of rupture until their penultimate scans because they could be documented to have been free of rupture for all earlier intervals.', 'Definite hypertension was defined by systolic BP _160 mm Hg or diastolic BP _95 mm Hg or a clinical history of hypertension requiring an antihypertensive medication.', 'Alternative analyses modeling the risk of at least one episode of septicemia were done using logistic regression with an adjustment for days at risk.', 'Patients with chronic organ impairment (with the exception of dialysis-dependant chronic renal failure) were assessed with the same criteria for organ failure as all other patients.', 'Diabetes was defined as fasting blood sugar _140 mg/dl or blood sugar during a 75-g oral glucose tolerance test _200 mg/dl.', 'We excluded non-CHD-related deaths by subtracting the estimated number of CHD-related deaths from the total number of deaths taken from Canadian life tables.24 Estimation ofrecurrent CHD events We estimated the annual risk of secondary CHD events (sudden death, fatal MI, nonfatal MI and congestive heart failure [CHF]) using recurrence rates from the Framingham study.28 We assumed that patients experiencing primary coronary insufficiency had the same risk of a secondary event as those with primary MI.29 We combined the primary and secondary events in each year after immigration to estimate the prevalence of CHD events necessitating admission to hospital.', 'For sites using selected hospitals, completeness of reporting was estimated collectively for persons diagnosedwithAIDS atthe selectedhospitals.', 'The cost per patient of a single cycle of chemotherapy was calculated for each country.', 'Telithromycin 800 mg once daily for seven to ten days is an effective and well-tolerated treatment for community-acquired pneumonia', 'Ninety-five percent of patients under DOT complete treatment in Manitoba [8].', 'Obesity was defined as body mass index _27.8 and _27.3 for men and women, respectively.', 'Serum aflatoxin-albumin (AF-alb) adducts were analyzed to provide a measure of exposure.', 'However, ascribing a causal relationship between use of an SGC and the observed high death rate of those who 94 HEALTH CARE FINANCING REVIEW/Summer 1994/Volume 15, Number 4 receive it is not warranted from the data in Table 1, because AMI patients who receive SGCs have much graver prognoses than those who do not.', 'In summary, in this population of 1666 ICU patients ventilated for gt; 48 hours, we have demonstrated that clinically important gastrointestinal bleeding is associated with a significant increase in attributable mortality (full range of RRs, 1-4) and length of ICU stay (approximately 4-8 days).', 'The kit included a cold pack to keep the specimens cool (but not frozen) until receipt at Channing Laboratory the following morning, when they were aliquoted and stored at _80C. During storage, no specimen thawed or warmed substantially.', 'Platelet-poor plasma was obtained on the remaining specimen by re-centrifugation at 2,000 g for 15 min.', 'The most frequent daily dose of aspirin that was prescribed in Israel at that time was 250 mg of coated aspirin.', 'A new MI was defined as a clinical event, electrocardiogram (ECG) changes and a creatine phosphokinase (CPK) rise to greater than or equal to twice normal levels with positive isoenzymes.', 'These criteria have recently been modified (5), but the modifications were not used in the present study.', 'In this study pertussis was defined as cough for 7 days or longer and one or more of the following criteria: (a) positive pertussis culture, (b) isolation of B. pertussis from a family member whose cough began within 28 days of the onset of the episode studied (before or after), (c) significant rise in PT IgG, and (d) significant rise in FHA IgG.', 'With published reporting standards, we abstracted data including demographics, atherosclerotic risk factors and cardiovascular disease, family history of aneurysmal or coronary artery disease, and comorbid conditions.', 'All patients not known to be dead were sent an inquiry letter.', 'Scores were based on published birthweight standards for a Scottish (Aberdeen) population 4 and served to correct for gestational age, sex of baby and parity of the mother.', 'Main measures-Recording of relevant symptoms and signs as determined in the guidelines; presence of, indications for, and rates and appropriateness of skull x ray examination and admission.', 'An appropriate decision was defined as a decision to perform a skull x ray examination or not or to admit or not, consistent with recorded indications or lack of recorded indications.', 'Methods Patient selection Two patient cohorts were enrolled into a registry of stable angina pectoris patients including 1) 5,423 patients undergoing initial direct diagnostic cardiac catheterization and 2) 5,826 patients undergoing stress myocardial perfusion imaging.', 'Diabetes was defined on the basis of a nonfasting blood glucose level _11.1 mmol/liter, a fasting blood glucose level _7.8 mmol/liter, or the use of insulin or an oral hypoglycemic agent.', 'Immunofluorescence The IF method is based on a mouse monoclonal antibody to Pneumocystis carinii and fluorescein isothiocyanate-conjugated sheep anti-mouse immunoglobulin as described by Elvin et al. [1].', 'A secondary analysis of the hospitalization data was performed for compliant patients, defined as in the previous report as those attending and being issued with trial medication at _75% of potential trial visits.', 'Agreement between interviews and hospital records was low, symptoms being more commonly reported by interview than in the record (for example, headache was reported for 5.80/.417% of patients compared with 0.30/o--3-0% in hospital records).', 'Main measures Details of birth, postnatal hospital stay, contact with health professionals, perceptions of roles of community midwife and health visitor, and current attendance obtained from a semistructured questionnaire administered in the department by a research health visitor; diagnosis, discharge, and follow up.', 'For PM1O, these cutoffs were L, lt; 40 ,ug/m3; M, 40 to lt; 50 ,ug/m3; and H, . 50 pg/m3.', 'For this study, both the ECHO and CATH designations of mild, moderate, or severe pulmonary artery (PA) stenosis were based upon a visual estimate for stenosis in the context of the size of the adjacent segment of unnarrowed pulmonary artery, with a mild stenosis representing _25% narrowing, moderate stenosis _50% narrowing, and severe stenosis _75% narrowing.', 'Percent of agreement was defined as the proportion of agreement plus the proportion of those who did not agree divided by the total number of matched patients.', 'The temporal distribution of deaths was tested for homogeneity with a chi-square goodness of fit (9).', 'Patients were included in this study if they met standard criteria for the diagnosis of COPD (12) and had an irreversible component of airflow obstruction on initial pulmonary function tests.', 'A single dose of 125mg of SFGC was administered undiluted by IV push over a period of 10 minutes.', 'Because the definition of unstable angina in the guidelines is based on the accurate distinction of unstable angina from nonischemic chest pain syndromes, we required demonstration of underlying coronary artery disease (gt;70% stenosis), exercise-induced ischemia (gt;1.5 mm ST segment depression or reversible defects on nuclear images or echocardiography) or CK-MB detection above the upper limits of normal (5 ng/dl) but below the threshold for AMI (5 to 10 ng/dl) to be classified as angina.', 'Recurrent ischemia was prospectively defined as reinfarction or test angina with ST segment or T wave changes.', 'Clinical assessments of health status as measures of susceptibility or potential for the threat of poor health outcomes included two dichotomous measures of body mass index[14] (i.e., overweight: 25 kg/m2 lt; BMI lt; 30 kg/m2; obese: BMI 30 kg/m2) and an ageand gender-weighted chronic disease score (CDS) [15] based on the presence or absence of 29 specific comorbidities determined from pharmacy dispensing data.', 'In this randomized trial (CARPORT), a noncategorical approach was used, and restenosis was defined as a loss of _0.72 mm in the MLD from post-PTCA to six-month follow-up.', 'Cancer incidence in relatives of a population-based set of cases of early-onset breast cancer with a known BRCA1 and BRCA2 mutation status.', 'Within this constraint, information was gathered in a reasonably consistent manner, in that the same pieces of information were sought from each patient, the same questions asked of each, even if the order of inquiry varied, that is to say, the path through the decision tree reflected patients differences.', 'The following were classified as high-risk criteria in the ET: 1) a positive clinical and/or ECG response at any time, with a heart rate lt;120 beats/min, or when the response occurred during the first two stages of the Bruce protocol; 2) ST-segment depression _1 mm, persisting _6 min in the recovery phase or present in five or more leads; 3) ST-segment depression _2 mm at any level of exercise; 4) ST-segment elevation (not in lead aVR) in the non__-wave leads; 5) a sustained decrease in systolic blood pressure during progressive exercise; 6) the presence of ventricular tachycardia; and 7) Duke index _10.', 'Condition after successful defibrillation-left ventricular failure or pulmonary oedema, cardiogenic shock (systolic blood pressure < 80 mm Hg with peripheral circulatory shutdown), coma on admission to hospital.', 'Postoperative medical management consisted of an aspirin (325 mg) the evening of surgery, intravenous nitroglycerin and beta-blockade, as well as immediate resumption of all preoperative cardiac medications.', 'Obesity was defined as a BMI higher than 30 kg/m2; overweight was considered as a BMI between 27 and 29.9 kg/m2 23 . Renal insufficiency was defined as a SCr higher than 1.4 mg/dL together with a CCr lower than 70 mL/min/1.73 m2.', '7 The BSA was calculated by means of Du Bois s formula (body surface area, cm2 = weight(0.425), kg _ height(0.725), cm _ 71.84).', 'As of 1996, follow-up was 100% complete, that is, all patients were known to be either dead or alive on January 1, 1996.', 'Alcohol consumption and breast cancer oestrogen and progesterone receptor status.', 'The birth registry information provided categorical information on the mother s smoking during pregnancy (no, yes, smoked after the first trimester, quit during the first trimester, no information).', 'Minor stroke was defined as a transient cerebral ischemia; major stroke as a persistent cerebral ischemia.', 'Long-term follow-up Each patient completed a questionnaire to identify those who had suffered a neurologic event such as stroke or TIA during the follow-up period.', 'Non-cardiac morbidity included: renal failure (defined as a twofold rise in creatinine over baseline), cerebral vascular accident, pneumonia, sepsis (defined by positive blood cultures) and anemia requiring blood transfusion.', 'Actually, this study demonstrated that the FPG cutoff value separating normal and diabetes was 110 mg/dL and that for IGT and diabetes was 117 mg/dL 214 NEW ADA CRITERIA IN THE KOREAN POPULATION : FAS TING BLOOD GLUCOSE IS NOT ENOUGH FOR DIAGNOSIS OF MILD DIABETES ESPECIALLY IN THE ELDERLY by cumulative distribution curve analysis (Figure 1).', 'Maternal alcohol use was dropped from final models because it was not associated with breastfeeding initiation in multivariable analysis and because alcohol use was missing for a large fraction (12%) of women.', 'The difference between the rate of consultation for the chronic bronchitis population and the background probability yielded an estimate of the excess probability of GP consultations in patients with chronic bronchitis.', 'Briefly, this was a randomized, double-blind, placebo-controlled 2 _ 2 factorial trial of low dose aspirin (Bufferin, Bristol-Myers Products, 325 mg every other day) and beta-carotene (Lurotin, BASF, 50 mg on alternate days) (13).', 'The studies were not consistent in their inclusion or exclusion of DVTs which were recurrent, DVTs which were combined with pulmonary embolism, and DVTs due to all causes.', 'Complications were defined as pneumothorax, confirmed by chest xray; wound infection, occurring within 14 days postoperatively, and confirmed by positive wound cultures; postoperative fever, a documented temperature of 38.3 C occurring postoperatively within 48 hours; enterotomy, defined as incision of the small intestines; vaginal cuff cellulitis, defined clinically by elevated temperature (greater than 38.3 C), pelvic tenderness, vaginal cuff discharge and induration; and pneumonia, confirmed by chest x-ray.', 'We excluded patients with renal failure (serum creatinine level _176 mmol/l) or hepatic damage, with obvious present or past CAD, stroke (including transient ischemic attacks [TIA]), congestive heart failure or arrhythmia.', 'Clinical and angiographic characteristics of the study groups are listed in Table 1. A history of previous myocardial infarction (MI) had been diagnosed based on typical chest pain lasting for more than 30 min with ST-T segment deviation on a standard 12-lead electrocardiogram and an increase in creatine kinase to at least twice the normal upper limit.', 'Of those who met any definition of CHF (n = 200, 73.8%), the mean ejection fraction was 42.5 16.0%.', 'For the degree of ischemia, an SDS of 0 was considered nonischemic, 1 to 4 mildly ischemic, and gt;4 moderately to severely ischemic (13).', 'Hospital and clinic charts were reviewed for comorbidities (coronary artery disease, stroke, hypertension, smoking, renal insufficiency [creatinine level gt; 1.5 mg/dL], hypercoagulable state, claudication, previous leg bypass graft, previous carotid endarterectomy [CEA], steroid use, diabetes, chronic obstructive pulmonary disease [COPD]), size of AAA, time in hospital, type of operation performed, complications of operation, time in intensive care unit (ICU), residence at discharge, residence at last follow-up, and walking status (fully ambulatory, assisted ambulation, or nonambulatory).', 'Additionally, data were collected on drive-line infection, which was defined as any infection that (1) was detected by the positive cultures obtained from the drive-line exit site and (2) required treatment with antimicrobial agents.', 'Calculation of urea kinetic parameters Mathematical details are given in Appendix A. The dose of delivered dialysis was expressed as urea reduction ratio (URR) and Kt/V, calculated using a recent equation by Daugirdas 17 . In patients with residual renal function, urea clearance and creatinine clearance were calculated from the 24-hour urinary output measurements and the time-averaged concentrations.', 'The patients were encouraged not to change their usual dietary habits, and were assured that the dietary record was not meant to check their adherence to the prescribed diet.', 'Secondary endpoints included all-cause mortality or MI at 10 days, events related to left ventricular dysfunction (LVD) [ie, composite endpoint of cardiac-related mortality, MI, cardiogenic shock, congestive heart failure (CHF), and life-threatening arrhythmia] at day 36 and at 6 months, refractory ischemia at day 36, and peak creatine kinase with muscle and brain subunits (CK-MB) levels measured to assess the extent of infarction.', 'Variation in the denominator reflects missing data Department 1 Department 2 Before After Before After guidelines guidelines guidelines guidelines (n = 533) (n = 613) (n = 370) (n = 364) No of cases with recorded 338 421 188 162 indication for x ray examination % (No) receiving 61(202/330) 73(305/417)* 52(98/187) 46(73/159) skull x ray examination % (No) not receiving 39(128/330) 27(112/417)* 48(89/187) 54(86/159) skull x ray examination No of cases without 195 190 182 202 recorded indication for x ray examination 0/o (No) receiving 28(54/192) 31(59/189) 15(28/182) 9(18/198) skull x ray examination % (No) not receiving 72(138/192) 69(130/189) 85(154/182) 91(180/198) skull x ray examination % (No) of cases managed 65(340/522) 72(435/606)* 68(252/369) 71(253/357) appropriately *p<0-05.', 'Calcium scores between 101 and 400 indicate moderate plaque burden and a relatively high likelihood of CAD.', 'Children were included if they presented with documented episodes of VT between January 1985 and December 1995.', 'A subject was classified as having impaired glucose tolerance (IGT) if the PPBG was 7.78 mmol/l (140 mg/dl) and <11.1 mmol/l (200 mg/dl) and the FBG was <7.0 mmol/l (126 mg/dl); impaired fasting glucose (IFG) was diagnosed if the FBG was 6.1 mmol/l (110 mg/dl) and <7.0 mmol/l (126 mg/dl).', 'Coronary anatomy was determined by direct visualization at the time of surgery.', 'Significant coronary artery disease was defined as _50% stenosis of the left main coronary artery or _70% stenosis in a major coronary artery, its branches or a bypass graft.', 'This study shows that timing of exposure and restricting analyses to more homogeneous endpoints are important in characterizing the reproductive toxicity of pesticides.', 'At the end of the study, an individual was censored from the analysis on the date of death if deceased, the end ofstudy date (27 November 1996) if alive, or at the last known residence date if lost to follow-up.', 'The hypertensive groups in stages II and III were merged, and thus four groups were considered: low BP (lt;119.4 mm Hg), reference group (119.4 to 139 mm Hg), high BP stage I (140 to 159 mm Hg), and high BP stages II and III (_160 mm Hg).', 'Laboratory analyses After five years of follow up, samples from 204 men who subsequently developed myocardial infarction were analyzed for fibrinogen levels together with matched control samples.', 'Analyses of the association between ischemic ECG findings and parental history of premature fatal CHD are based on all subjects free of symptomatic CHD at baseline.', 'In the newly treated group, we defined a subgroup of 165 patients whose mental health treatment included a therapeutic dose of a psychotropic medication.', 'Analysis was thereafter focused on patients treated with ACE inhibitors with and without aspirin.', 'Individuals with a primary diagnosis of learning disability or dementia, or those aged less than 15 years at time of discharge were excluded.', '7 Postoperative pulmonary dysfunction was defined as positive pressure mechanical ventilation for more than 7 days, and hepatic dysfunction was defined as a lactate dehydrogenase level of more than 500 mg/dL and either a total serum bilirubin level of more than 3.0 mg/dL or a serum transaminase level of more than 200 mg/dL.', 'Diagnosis of MI required symptoms consistent with myocardial ischemia with a CK-MB level _8.0 ng/ml and a relative index _4 ([CK-MB _ 100]/total CK).', 'Minor bleeding was defined as observed blood loss with reduction in hemoglobin of more than 3 g/dl but less than or equal to 5 g/dl (or 10_15% reduction in hematocrit) if there was spontaneous gross hematuria or hematemesis, even if the hemoglobin or hematocrit drop was less or equal to 3 g/dl or less than 10% respectively or, if there was no observed blood loss, a reduction of more than 4 g/dl in hemoglobin or 12% or more in hematocrit (17).', 'Ischemic heart disease was defined by the presence of at least one of the following: history of acute myocardial infarction (MI; with at least two of the following signs: typical chest pain lasting more than 20 min, Q-wave MI on EKG, significant cardiac enzyme elevation), typical angina with ischemic signs on resting EKG and/or exercise EKG and/or thallium scan, significant coronary artery narrowing on coronary angiogram, history of coronary angioplasty or coronary artery bypass graft (CABG).', '1: BIrthbplace of 19 Indian children with non-insulndependent diabetes mellitus (NIDDM).', 'Various stent types were used: Multi-Link stent (n = 1,428; ACS-Guidant, Temecula, California), Inflow stent (n = 1,334; Inflow Dynamics, Munich, Germany), Palmaz-Schatz stent (n = 1,051; Johnson Johnson Interventional Systems, Warren, New Jersey), Jostent (n = 735; JOMED, Rangendingen, Germany), Pura-A (n = 451; Devon Medical, Hamburg, Germany), NIR stent (n = 308; Scimed-Boston Scientific, Maple Grove, Minnesota) and several other types in lt;60 procedures (total n = 371).', 'Cardiovascular events included myocardial infarction, unstable angina with concomitant ischemic ECG changes, coronary artery surgery or angioplasty, sudden cardiac death, congestive heart failure requiring hospitalization, stroke and transient ischemic attack.', 'Mean Absolute Percentage Error (MAPE) was used to measure of quality of fit.', 'Hyperuricemia was treated with probenecid and allopurinol.', 'Prevalent ESRD patients entering the study on January 1, 1990 were excluded if they were found to have previously undergone renal transplantation or PTX.', 'All other discharges were classified as __ural._ Discharges were classified as __eaching_ if they occurred at a hospital listed as a primary or affiliated institution of an accredited internal medicine or family practice residency program according to the American Medical Association__ directory of postgraduate medical training programs (16).', 'The average response rate to the supplementary questionnaire in all three cohorts wasgt;90%.', 'We defined the highest tertile of TC/HDL as high ratio and the two lower tertiles of TC/HDL ratio (to avoid very small numbers in some of the subgroups) as normal and formed four groups by cross-classifying the two categories of fibrinogen and TC/HDL ratio.', 'We included a second model that provided insight into estimated costs for annual medical therapy.', 'They are summarised in appendix 1. Finally, after the admission rates for age, sex, and marital status were standardised as described above to control for the effects of these variables, a stepwise regression analysis was used to determine which combination of these independent or explanatory variables most economically explained the variation of the standardised psychiatric admission ratios.', 'Two hundred and eight patients who were being considered for orthotopic liver transplantation were excluded, as were 12 patients who died from noncardiac causes while hospitalized, two patients who had orthotopic heart transplantations, and 13 patients who had a PTCA within the six months prior to dobutamine stress testing.', 'Hyperlipidemia was reported by the physician and determined by a serum cholesterol value gt;240 mg/dl (6.2 mmol/l) or current antihyperlipidemic treatment.', 'The biochemical profile diagnostic of AMI consists of a typical rise and fall of total CK above twice normal values within 24 h of presentation and CK-MB higher than twice normal values.', 'Because the operative procedures were mixed and patient numbers were small, only limb salvage, not patency, was determined.', 'Cardiogenic shock was defined as maximal systolic pressure lt;90 mm Hg for at least 30 min, unless treated with inotropes or intra-aortic balloon pump insertion, or pump failure as manifested by a cardiac index lt;2.2 liter/min per m2 and pulmonary capillary wedge pressure gt;18 mm Hg.', 'Definitions Suspected intrapartum or puerperal genital tract infection-oral temperature gt; 38C with no other identifiable source or unusual abdominal pain or late postpartum hemorrhage, all -lt; 50 days postdelivery.', 'The staging classification used was as follows: stage I - operable disease with pathologically negative axillary nodes; stage II - operable disease with pathologically positive nodes; stage III - locally advanced, inoperable disease; stage IV - metastatic disease at presentation.', 'PLSS section boundary Residential parcels Almonds Grapes Apples Kiwi Pistachios Plums Field crops N 0 0.5 1 2 Miles 0 0.5 1 2 Kilometers Orchards and crops Shafter uncertainty, we decided to combine these crop categories into a class of field crops, assuming that for a reported pesticide application on a specific field, truck, grain, or pasture crop in a PLSS section, all areas with these crop designations were equally likely application sites.', 'For patients who underwent exercise as an adjunct to adenosine infusion, low-level treadmill exercise was performed at 0% grade and 1.0 to 1.7 mph.', 'Long-term outcome after biologic versus mechanical aortic valve replacement in 841 patients', 'All patients fulfilling these criteria in Table 1 General characteristics of the cohort of 4400 3-year survivors of a first cancer in childhood First cancer Patients Mean year of first cancer Mean age at Mean Type of the first cancer treatment treatment Females first cancer follow-up (%) (years) (years) Rt, no Ct (%) Ct, no Rt (%) Rt + Ct (%) Ewing s sarcoma 148 1976 36 9 12 9 5 86 Bone sarcoma 143 1977 42 12 12 23 37 29 Soft tissue sarcoma 588 1974 45 6 15 17 21 49 Neuroblastoma 566 1975 50 2 15 16 31 40 Wilm s tumour 816 1973 47 3 16 11 24 62 Central nervous system 722 1972 51 7 16 59 1 25 Bilateral retinoblastoma 82 1978 49 1 12 29 1 67 Unilateral retinoblastoma 59 1977 45 3 13 25 18 39 Hodgkin s disease 374 1975 35 10 13 23 8 68 Non-Hodgkin s lymphoma 456 1977 28 8 12 9 39 51 Others 446 1975 51 7 15 28 25 28 Total 4400 1974 45 6 15 24 20 47 Rt, radiotherapy; Ct, chemotherapy.', 'Dialysis duration was defined as the time between the start of the dialysis and stopping the blood flow at the end of dialysis.', 'The cohort includes 159 patients with symptomatic CGVHD.', 'The criteria for diagnosis of AMI included at least two of the following: 1) clinical history of prolonged chest pain; 2) serum enzyme elevations in excess of the upper limit of normal as specified by the laboratory at each hospital; and 3) serial electrocardiogram (ECG) tracings during hospitalization showing changes in the ST segment or Q-waves.', 'obstructive pulmonary disease or renal dysfunction), type of prosthesis, a history of preoperative coneestive hean failure, concomitant coronary artery bypass surgery, concomitant aortic reeureitation, radiologie hean size and cardiac rhythni.', 'Physician management in primary care.', 'Macroalbuminuria Patients were designated as being in the stage of macroalbuminuria if their urine albumin was _300 mg/L at two consecutive annual visits and their plasma creatinine was lt;175 mol/L, or if a urinary albumin value _300 mg/L was followed in the next year by elevated plasma creatinine, renal replacement therapy, or death from renal or cardiovascular causes.', 'Patients and control subjects were temporally mismatched, on average, by 6 years because the mean SD year of birth for the patients was 1930 1.8 versus 1936 1.7 for control subjects (P lt; .001).', 'Preterm births (<37 weeks gestation) were excluded from this analysis because of the differences in factors affecting fetal growth (15).', 'For these data to be compared with those reported by other investigators, 24,25 graft stenoses were defined and categorized into three distinct subgroups based on the first DUS-detected (index) lesion as follows: (1) normal (PSV lt; 200 cm/s, Vr lt; 2.0); (2) intermediate stenosis (200 cm/s lt; PSV lt; 300 cm/s, 2.0 lt; Vr lt; 4.0); and (3) critical stenosis (PSV gt; 300 cm/s, Vr gt; 4.0).', 'The diagnosis of flail leaflets was based on failure of leaflet coaptation, with rapid systolic movement of the flail segment into the LA (16,21).', 'In event-free patients, those without operation or rupture, the most recent scan was compared with the initial follow-up study if 6 months of uneventful follow-up could be documented.', 'Respiratory decompensation was defined as an episode of dyspnea or wheezing which: 1. was sufficiently severe to require emergency outpatient treatment or hospitalization; 2. was attributed to increased airflow obstruction by the attending ED physician and 3. was treated with nebulized bronchodilators and/or corticosteroids.', 'Compared to criteria sets published elsewhere, the extremely minimal nature ofthese criteria is immediately evident.', 'In this context, angina was defined as exertional chest pain or discomfort alleviated by rest or nitroglycerin, and stroke was defined as a focal neurologic deficit lasting more than 24 hours.', 'To ascertain dates of diagnosis of prostate cancer incidence and prostate cancer as a cause of deaths in these three cohorts, we linked the background register to the CER 60/70 proper, matching on all variables that both these datasets had in common.', 'These tests were performed in the laboratory of Dr. Kimberling using established markers for the PKD-1 and PKD-2 genes 4 . During their two-day hospital stay, the children had multiple blood pressure measurements obtained (mean 14, range 2 to 20); these were taken on the dominant arm with an automatic device (Dynamap; Critikon, Inc., Tampa, FL, USA) in the sitting position using a cuff appropriate for the child s upper arm circumference.', 'The cut off point for urinary iodine excretion to classify an individual as deficient was defined after plotting sensitivity and specificity values in a receiver operator curve.', 'Prevalence of self-reported eczema in relation to living environment, socio-economic status and respiratory symptoms assessed in a questionnaire study.', 'Controlled hypertension was defined as office BP lt; 140/90 mm Hg.', 'Transient ischemic attack was defined as a new neurologic deficit that resolved within 24 hours, and stroke was defined as a new or progression of a neurologic deficit that lasted beyond 24 hours.', 'Patients were randomly selected for this study from the national population of ESRD patients in the Medicare ESRD registry using a two-stage cluster sampling procedure.', 'To assess the risk of stroke or other peripheral vascular events associated with the principal clinical variables of our study patients, Cox proportional hazards regression analysis was performed using the SPSS, version 8.0 statistical package (SPSS Inc., Chicago, Illinois).', 'Low incidence of transplant coronary artery disease in chinese heart recipients', 'This rating took account of all information provided by the respondent about the task carried out and the exposure reported.', 'In order to contrast variation between practices for different diagnostic groups, we need a measure of variability that takes account of differing mean rates.', 'The simpler approach groups procedures with similar expected short-term mortality rates into 6 predefined risk categories, in which category 1 has the lowest risk for death and category 6 the highest (Table 1), and examines mortality separately within each category.', 'In 1995, a primary publication concerning only patients treated with radiotherapy alone (de Vathaire et al, 1995), dealt with 1055 patients and 26 solid SMN.', 'Relative contraindications included age gt; 75 years, severe anxiety, severe depression, or CO2 retention with resting Paco 2 gt; 55 mm Hg.', 'We computed mortality relative risks using logistic regression among AF patients.', 'The diagnosis of myocardial infarction was established in the presence of characteristic symptoms, typical pattern on ECG and elevated cardiac enzymes, or by the appearance of a definite new wall motion abnormality on echocardiography, MRI or left ventricular angiography, in association with changes in ECG.', 'For breast cancer, therapeutic options are dependent upon the stage of the disease at presentation, the age and menopausal status of the patient, and the hormone-receptor status of the tumour.', 'Patients 230 patients undergoing emergency appendicectomy during 1989.', 'In this expression, K/V is calculated as (spKt/V)/Td expressed in h_1. Computation of eKt/V from actual postdialysis rebound In order to estimate the equilibrated BUN (Ceq) based on the observed postdialysis rebound at 60 minutes, the Runge-Kutta algorithm was used to obtain curve-fit solutions to the double-pool, variable-volume (dpvv) model [23] based on the prehemodialysis, posthemodialysis, and post + 60 minutes hemodialysis BUNs.', 'In the study 117 had heart failure, a prevalence of 3.9 per 1000 patienU.', 'Parapertussis was defined as cough for 7 days or longer and a positive parapertussis culture or fulfilment of at least two of the following criteria: (a) significant rise in FHA IgG without significant rise in PT IgG, PT IgM, and PT IgA, (b) parapertussis DNA detected by the polymerase chain reaction (PCR), and (c) isolation of B. parapertussis from a family member whose cough began within 28 days of the onset of the episode studied (before or after).', 'Hypertension stage was defined following current guidelines (6) as stage I (SBP of 140 to 159 mm Hg or DBP of 90 to 99 mm Hg); stage II or greater (SBP _160 mm Hg or DBP _100 mm Hg); isolated systolic hypertension, stage I (SBP of 140 to 159 mm Hg and DBP lt;90 mm Hg) and isolated systolic hypertension, stages II to III (SBP _160 mm Hg and diastolic blood pressure lt;90 mm Hg).', 'A diagnosis of QWMI was accepted when Q-waves with a duration of 0.04 s or more and an amplitude equal to or greater than 25% of the R wave in that lead, as well as a typical pattern of evolutionary changes in the ST segment and T waves, appeared in two or more contiguous leads in serial ECGs with or without a typical clinical history or serum enzyme elevations.', 'During each procedure, prophylactic antibiotic therapy (Augmentin, amoxicillin/clavulanate potassium, 1200 mg, SmithKline Beecham Pharma, London, United Kingdom) was given.', 'The simplified cancer registry staging system was used to classify the tumour stage into the categories local (meaning confined to the organ of origin), local extension or nodal or distant metastases, or both, and not known.', 'Perioperative mortality was defined as death within 30 days of operation.', 'Hypertensive group stages I and II were merged, and three groups were considered: low BP (lt;74.5 mm Hg), reference group (74.5 to 89 mm Hg), and high BP (_90 mm Hg).', 'Firstly, patients were asked if they had received therapy or treatment for that problem (drugs or other therapy) and, secondly, they were asked to rate the intensity of the symptom on a 5 point visual analogue scale ranging from 1 (mild) to 5 (excruciating).9 At the end of the interview, patients were asked if they were: very satisfied, satisfied, somewhat satisfied, dissatisfied or very dissatisfied with their anaesthetic experience.', 'Dead cells were excluded by forward and side scatter gating.', 'Period 1971-1972, 1973-1974 The World Health Organisation Heart Attack Register criteria 0 were used for the registration of acute myocardial infarction events both in North Karelia and in Kaunas.', 'We calculated odds ratios for each pollutant in relation to asthma hospitalization after adjustment for three weather conditions: daily maximum and minimum temperature and average relative humidity.', 'Sera from patients with cervical squamous cell carcinoma were considered as HPV-positive cancer control sera.', 'Other comparisons of follow-up data in the various outcome groups are shown in Table I. Table I Follow-up of 50 patients with chronic type B dissection No rupture or operation (n = 31) Rupture (n = 9) Operation (n = 10) All patients (n = 50) Time (mo) Median Range Median Range Median Range Median Range From acute dissection until first follow-up CT scan 8.3 2.1-90.6 8.6 4.9-74.2 5.9 2.8-13.1 8.2 2.1-90.6 From acute dissection until last CT scan* 45.1 3.7-117.1 37.4 4.9-87.3 13.9 2.8-88.9 37.4 2.8-117.1 From last CT scan until last follow-up_ 12.5 2.9-74.3 7.0 2.0-14.8 2.3 0.4-23.6 10.2 0.4-74.3 From first follow-up CT scan until last follow-up 46.9 12.9-112.1 26.8 3.9-57.4 12.2 0.9-106.5 39.5 0.9-112.1 *Last CT scan refers to last CT scan in this study.', 'Seventy-two of these patients were discharged before they could be invited to participate, and 47 were deemed ineligible because of language barriers, use of azathioprine suspension, or care setting (for example, nursing home).', 'Participants were categorized as smokers if they currently smoked cigarettes regularly or if they had quit within a year before the baseline examination.']\n",
            "this is a list:  ['1', '0', '1', '0', '0', '1', '0', '0', '1', '0', '0', '1', '1', '1', '0', '1', '1', '0', '0', '1', '1', '0', '0', '1', '0', '0', '1', '0', '1', '0', '0', '1', '1', '0', '0', '0', '0', '1', '0', '0', '0', '0', '0', '0', '1', '0', '1', '0', '0', '0', '0', '0', '0', '1', '0', '0', '0', '0', '0', '1', '0', '0', '0', '0', '1', '1', '1', '1', '0', '0', '1', '1', '0', '1', '0', '0', '0', '0', '1', '0', '1', '1', '0', '0', '0', '0', '1', '1', '1', '0', '1', '1', '1', '0', '0', '1', '0', '1', '0', '1', '0', '1', '0', '0', '1', '0', '0', '0', '0', '0', '1', '1', '1', '1', '0', '0', '1', '0', '0', '0', '0', '0', '0', '0', '0', '0', '1', '1', '0', '1', '1', '0', '0', '0', '0', '0', '0', '0', '1', '0', '0', '1', '0', '1', '1', '1', '0', '1', '0', '1', '0', '0', '0', '0', '1', '1', '0', '0', '0', '0', '0', '0', '0', '0', '0', '1', '0', '0', '0', '0', '1', '1', '1', '0', '0', '1', '1', '0', '0', '0', '0', '0', '0', '0', '0']\n"
          ],
          "name": "stdout"
        }
      ]
    },
    {
      "cell_type": "code",
      "metadata": {
        "colab": {
          "base_uri": "https://localhost:8080/"
        },
        "id": "ufYdcNSaw1GO",
        "outputId": "95f1850b-fa99-4b41-9643-f81e0a7fa4d9"
      },
      "source": [
        "# Change outcomes in text to binary using encoder\n",
        "# Don't need this since labels are already binary in this data set\n",
        "# Apparently I DO need this code - maybe the 01s are still considered text and need to be transformed to numbers?\n",
        "encoder = preprocessing.LabelEncoder()\n",
        "train_data_y = encoder.fit_transform(train_data_y)\n",
        "valid_data_y = encoder.fit_transform(valid_data_y)\n",
        "print(\"this is transformation: \", train_data_y)\n",
        "print(\"this is transformation: \", valid_data_y)\n",
        "\n",
        "# # # Evan's attempts with x\n",
        "# # train_data_x = encoder.fit_transform(train_data_x)\n",
        "# # valid_data_x = encoder.fit_transform(valid_data_x)\n",
        "# # print(\"this is another transformation: \", valid_data_x)"
      ],
      "execution_count": null,
      "outputs": [
        {
          "output_type": "stream",
          "text": [
            "this is transformation:  [0 0 1 0 0 0 1 0 1 0 0 0 0 1 1 0 0 0 0 1 0 0 0 0 0 0 0 1 0 1 0 0 0 1 0 0 1\n",
            " 0 0 0 0 0 0 0 1 1 1 0 0 1 1 0 1 0 1 1 1 0 0 0 0 0 0 0 1 0 1 1 1 0 0 1 1 0\n",
            " 0 0 0 1 1 1 1 0 0 0 0 1 0 1 0 1 0 0 1 0 1 0 1 1 1 0 0 0 1 0 0 1 0 0 0 0 0\n",
            " 0 0 1 0 1 1 1 1 0 0 0 0 1 0 0 0 0 0 1 0 1 0 0 0 0 0 1 0 0 0 0 0 0 1 0 0 0\n",
            " 0 0 0 1 0 0 0 0 1 0 0 1 1 1 0 1 0 1 0 1 0 1 0 0 0 0 0 0 1 0 1 0 1 0 0 1 0\n",
            " 0 0 0 0 0 0 0 1 0 0 1 0 0 0 0 0 0 0 0 0 0 1 0 1 1 0 1 0 0 0 0 0 0 0 1 0 0\n",
            " 0 0 0 0 1 0 0 0 0 1 1 0 0 0 1 0 0 0 1 0 1 0 0 0 1 0 0 0 0 0 0 0 1 0 0 0 0\n",
            " 1 0 1 0 0 0 0 0 0 0 0 0 1 1 0 0 0 0 0 1 0 0 0 1 0 0 0 0 0 1 0 0 0 1 1 0 0\n",
            " 0 1 1 0 0 0 0 0 0 0 0 0 0 1 0 0 0 1 0 0 0 0 1 1 0 0 0 1 0 1 0 1 0 0 1 0 1\n",
            " 1 0 0 0 1 0 0 0 1 1 0 1 1 1 1 0 1 0 0 0 1 1 1 1 1 0 1 1 0 0 0 0 0 1 0 0 0\n",
            " 1 1 1 0 0 0 1 1 0 0 1 0 0 1 1 0 0 0 0 0 1 1 1 0 0 0 0 0 0 1 1 0 1 0 1 1 1\n",
            " 0 0 0 1 1 1 1 0 0 1 0 1 0 0 0 0 0 0 0 1 0 1 1 0 0 1 0 0 0 0 1 0 0 1 0 1 0\n",
            " 0 0 0 0 0 0 0 0 0 0 0 1 0 1 0 0 0 0 0 0 1 1 0 0 0 0 0 0 1 1 1 0 0 1 1 0 0\n",
            " 1 1 0 0 0 0 0 0 0 0 1 0 1 0 1 0 0 1 0 0 0 1 0 0 1 0 1 1 0 0 0 0 0 0 0 0 0\n",
            " 1 0 0 0 0 0 0 0 0 0 1 0 0 0 0 0 1 0 0 0 0 1 0 0 1 1 0 0 0 1 0 1 1 1 0 0]\n",
            "this is transformation:  [1 0 1 0 0 1 0 0 1 0 0 1 1 1 0 1 1 0 0 1 1 0 0 1 0 0 1 0 1 0 0 1 1 0 0 0 0\n",
            " 1 0 0 0 0 0 0 1 0 1 0 0 0 0 0 0 1 0 0 0 0 0 1 0 0 0 0 1 1 1 1 0 0 1 1 0 1\n",
            " 0 0 0 0 1 0 1 1 0 0 0 0 1 1 1 0 1 1 1 0 0 1 0 1 0 1 0 1 0 0 1 0 0 0 0 0 1\n",
            " 1 1 1 0 0 1 0 0 0 0 0 0 0 0 0 1 1 0 1 1 0 0 0 0 0 0 0 1 0 0 1 0 1 1 1 0 1\n",
            " 0 1 0 0 0 0 1 1 0 0 0 0 0 0 0 0 0 1 0 0 0 0 1 1 1 0 0 1 1 0 0 0 0 0 0 0 0]\n"
          ],
          "name": "stdout"
        }
      ]
    },
    {
      "cell_type": "code",
      "metadata": {
        "colab": {
          "base_uri": "https://localhost:8080/"
        },
        "id": "GXNKVkZXwx5-",
        "outputId": "8d374129-9c7a-4cab-d80f-71d9fa07fd76"
      },
      "source": [
        "# Feature selection/engineering using count vector method - this depends on data we use.\n",
        "# Could use Tf-IDF, Ngram, Character level Ngram, or Count Vector.\n",
        "# Count vector counts the presence of absence of vectors/words in each sentence.\n",
        "# 2 sent of 5 words made into a matrix\n",
        "# Then builds a feature matrix to see which features are present and which are not\n",
        "count_vectorization = CountVectorizer(analyzer='word', stop_words='english', token_pattern=r'\\w{1,}')\n",
        "count_vectorization.fit(train_data_DF['text'])\n",
        "print(\"These are features, :\", count_vectorization.get_feature_names())\n",
        "# in lecture the two_test_review file was used, so features look diff\n",
        "# count vecotirzation tokenizes each word and considers (produces output showing) every single non-stopword word as a feature"
      ],
      "execution_count": null,
      "outputs": [
        {
          "output_type": "stream",
          "text": [
            "These are features, : ['0', '000', '001', '01', '020', '04', '05', '051', '071', '08', '0900', '0mg', '0o000', '1', '10', '100', '1000', '101', '104', '1055', '106', '10_15', '10th', '11', '110', '112', '1169', '117', '1177', '119', '11_13', '12', '120', '1200', '122', '125', '125mg', '126', '128', '1280', '13', '130', '133', '135', '136', '137', '138', '139', '14', '140', '143', '146', '147', '1472', '148', '15', '150', '151', '154', '159', '15_17', '16', '160', '162', '165', '166', '1666', '17', '170', '175', '176', '177', '17_19', '18', '180', '182', '1851', '1856', '187', '188', '189', '18_64', '19', '190', '190mol', '1914', '192', '1930', '1936', '1943', '195', '1971', '1972', '1973', '1974', '1975', '1976', '1977', '1978', '1979', '198', '1981', '1982', '1983', '1984', '1985', '1986', '1987', '1988', '1989', '1990', '1991', '1992', '1993', '1994', '1995', '1996', '1997', '1998', '1999', '1a', '1additional', '1centre', '1professor', '1st', '2', '20', '200', '2000', '2001', '2002', '2003', '2004', '200ml', '201983', '202', '204', '2075', '21', '214', '22', '223', '22_', '23', '230', '24', '240', '24hours', '25', '250', '2500', '252', '253', '257', '26', '265', '2656', '27', '28', '284', '2860', '287', '29', '297', '299', '2_', '2director', '2institut', '2mm', '2mmol', '2year', '2years', '3', '30', '300', '3013', '305', '308', '30min', '31', '318', '32', '325', '330', '334', '338', '34', '340', '35', '357', '36', '364', '369', '37', '370', '371', '373', '374', '38', '38c', '39', '3hospital', '3m5', '3week', '4', '40', '400', '4020ooj', '417', '42', '420', '421', '423', '4244', '425', '428', '43', '431', '435', '44', '440', '4400', '446', '45', '451', '456', '46', '47', '470', '48', '489', '49', '499', '4john', '5', '50', '500', '51', '52', '522', '533', '54', '55', '566', '57', '573', '588', '59', '5mg', '5th', '6', '60', '600', '606', '60c', '60cu', '61', '613', '62', '63', '64', '65', '662', '67', '68', '69', '6947', '7', '70', '700', '71', '72', '722', '725', '73', '733', '735', '73m2', '74', '75', '76', '762', '769', '78', '79', '8', '80', '800', '80oral', '816', '82', '826', '83', '84', '841', '845', '85', '86', '87', '870', '88', '89', '9', '90', '900', '90th', '91', '912', '92', '932', '935', '94', '942', '95', '956', '959', '96', '964', '967', '97', '972', '973', '98', '980', '9801', '986', '99', '990', '995', '999', '_', '_0', '_1', '_10', '_100', '_11', '_126', '_12mm', '_140', '_15', '_16', '_160', '_176', '_2', '_20', '_200', '_25', '_27', '_3', '_30', '_300', '_343', '_35', '_4', '_40', '_400', '_440', '_5', '_50', '_6', '_65', '_7', '_70', '_75', '_8', '_80', '_80c', '_90', '_95', '__', '__arge_', '__ave', '__eaching_', '__ecurrent', '__ell_', '__ere', '__es_', '__hristoph', '__mproved_', '__n', '__ncident_', '__nfection', '__nknown', '__o', '__omplication', '__onteaching', '__orst', '__ossible', '__tent', '__ther_', '__ural', '__ured_', '__vert_', 'aaa', 'aaas', 'aai', 'abdominal', 'aberdeen', 'ability', 'abnormal', 'abnormalities', 'abnormality', 'abnormally', 'abortion', 'abrams', 'abrupt', 'absence', 'absolute', 'abstract', 'abstracted', 'abstraction', 'abuse', 'ac', 'acas', 'acc', 'accelerated', 'accelerating', 'accepted', 'access', 'accident', 'accompanying', 'accordance', 'according', 'account', 'accredited', 'accuracy', 'accurate', 'accurately', 'ace', 'acf', 'achieve', 'achieved', 'acid', 'acidosis', 'acquired', 'acquisition', 'acr', 'acs', 'act', 'activase', 'activated', 'active', 'activities', 'activity', 'actual', 'actually', 'acuity', 'acute', 'ada', 'adapt', 'adaptation', 'adapted', 'adding', 'addition', 'additional', 'additionally', 'addressed', 'adducts', 'adenosine', 'adhd', 'adherence', 'adjacent', 'adjunct', 'adjusted', 'adjusting', 'adjustment', 'adjuvant', 'administered', 'administration', 'admission', 'admissions', 'admissionswas', 'admit', 'admittance', 'admitted', 'adult', 'adults', 'advanced', 'adverse', 'advice', 'af', 'affected', 'affecting', 'affiliated', 'aflatoxin', 'afp', 'african', 'afternoon', 'age', 'ageand', 'aged', 'agent', 'agents', 'ages', 'aggregate', 'agonist', 'agree', 'agreed', 'agreement', 'aha', 'ahfs', 'aids', 'air', 'airflow', 'airway', 'al', 'alb', 'alberta', 'albumin', 'albuminuria', 'alcohol', 'algorithm', 'aliquoted', 'alive', 'alkaline', 'allergy', 'alleviated', 'allocated', 'allopurinol', 'allowed', 'allowing', 'allows', 'almonds', 'alpha', 'alteplase', 'alternate', 'alternative', 'alternatives', 'altogether', 'ambiguity', 'ambulation', 'ambulatory', 'america', 'american', 'ami', 'aminodepartments', 'aminotransferase', 'amitriptyline', 'amoxicillin', 'amplitude', 'amputation', 'amyloid', 'anaesthesia', 'anaesthetic', 'analgesia', 'analogue', 'analysed', 'analyses', 'analysis', 'analyzed', 'anatomic', 'anatomical', 'anatomy', 'anemia', 'anesthesia', 'anesthesiologists', 'anesthetic', 'aneurysm', 'aneurysmal', 'aneurysms', 'angina', 'angiogram', 'angiograms', 'angiographic', 'angiographically', 'angiography', 'angioplasty', 'angiotensin', 'angle', 'angulated', 'ankle', 'annual', 'anomalies', 'anova', 'answer', 'answered', 'answering', 'antagonists', 'antecedent', 'antenatal', 'anteparturn', 'anterior', 'anti', 'antibiotic', 'antibodies', 'antibody', 'anticipated', 'anticoagulant', 'anticoagulants', 'antidepressant', 'antidepressants', 'antidiabetic', 'antigen', 'antihyperlipidemic', 'antihypertensive', 'antimicrobial', 'antiplatelet', 'anuria', 'anxieties', 'anxiety', 'aorta', 'aortic', 'aorto', 'apetite', 'apgar', 'appearance', 'appeared', 'appears', 'appendicectomy', 'appendix', 'apples', 'application', 'applied', 'applying', 'approach', 'approaches', 'appropriate', 'appropriately', 'appropriateness', 'approval', 'approximated', 'approximately', 'approximation', 'aprex', 'april', 'arbitrary', 'archer', 'area', 'areas', 'arising', 'arm', 'armed', 'aromatic', 'arrangements', 'arrhythmia', 'arrythmia', 'arsenic', 'arterial', 'arteries', 'arteriography', 'arteriovenous', 'artery', 'arthritic', 'arthritis', 'asa', 'asampleofmedicareffs', 'ascending', 'ascertain', 'ascertained', 'ascribing', 'ashkenazi', 'ask', 'asked', 'aspartate', 'aspects', 'aspirate', 'aspirin', 'assays', 'assess', 'assessed', 'assessing', 'assessment', 'assessments', 'assigned', 'assignment', 'assisted', 'assisting', 'associated', 'association', 'association__', 'associations', 'assumed', 'assuming', 'assured', 'asthma', 'asymptomatic', 'asynchrony', 'atheromatous', 'atherosclerosis', 'atherosclerotic', 'atrial', 'atrioventricular', 'attack', 'attacks', 'attendance', 'attended', 'attending', 'atthe', 'attributable', 'attributed', 'atypical', 'audit', 'augmentin', 'authorities', 'authors', 'automatic', 'autopsy', 'av', 'availability', 'available', 'avascular', 'avenue', 'average', 'averaged', 'avf', 'avoid', 'avr', 'axes', 'axillary', 'axis', 'az', 'azathioprine', 'b', 'baby', 'bac', 'bachelot1', 'background', 'backward', 'backwards', 'baclofen', 'bacteremia', 'bacteriological', 'balloon', 'band', 'barriers', 'basal', 'base', 'based', 'baseline', 'basf', 'basic', 'basis', 'bayview', 'beat', 'beats', 'bed', 'beecham', 'began', 'beginning', 'believed', 'berard', 'best', 'beta', 'better', 'bias', 'bicycle', 'bidimensionally', 'bifurcation', 'bilateral', 'biliary', 'bilirubin', 'billed', 'bills', 'binary', 'biochemical', 'biologic', 'biomedcentral', 'bioprostheses', 'biopsy', 'biron1', 'birth', 'birthbplace', 'births', 'birthweight', 'black', 'bladder', 'blay1', 'bleeding', 'blind', 'blinded', 'block', 'blockade', 'blockers', 'blocks', 'blood', 'blue', 'blurred', 'bmc', 'bmi', 'bmio18', 'board', 'body', 'bois', 'bolus', 'boluses', 'bone', 'booking', 'borderline', 'borg1', 'born', 'boston', 'bottle', 'boundary', 'bp', 'braces', 'brachytherapy', 'bradycardia', 'brain', 'branch', 'branches', 'brand', 'brca1', 'brca2', 'breakpoints', 'breast', 'breastfeeding', 'breath', 'brief', 'briefly', 'bring', 'bristol', 'british', 'brob', 'bronchial', 'bronchioles', 'bronchitis', 'bronchodilator', 'bronchodilators', 'bruce', 'bruits', 'bsa', 'bucknall', 'bufferin', 'bulge__', 'bun', 'bundle', 'buns', 'bupropion', 'burden', 'butyrophenones', 'bypass', 'c', 'ca', 'cabg', 'cad', 'calcification', 'calcium', 'calculate', 'calculated', 'calculation', 'calculations', 'california', 'called', 'came', 'canada', 'canadian', 'cancer', 'cancers', 'candidate', 'cane', 'capable', 'capacity', 'capd', 'capillary', 'capture', 'carbon', 'carcinoma', 'cardiac', 'cardiogenic', 'cardiologist', 'cardiologists', 'cardiomyopathy', 'cardiopulmonary', 'cardiothoracic', 'cardiotoxic', 'cardiovascular', 'care', 'cared', 'careful', 'carefully', 'carinii', 'carotene', 'carotid', 'carport', 'carried', 'cartesian', 'case', 'case_', 'caseafication', 'cases', 'catecholaminergic', 'categoric', 'categorical', 'categories', 'categorisation', 'categorised', 'categorized', 'category', 'cath', 'catheter', 'catheterization', 'caudal', 'causal', 'cause', 'caused', 'causes', 'ccr', 'ccu', 'cdc', 'cds', 'cea', 'cell', 'cells', 'cellulites', 'cellulitis', 'censored', 'censoring', 'center', 'central', 'centre', 'centres', 'centrifugation', 'ceq', 'cer', 'cerebral', 'cerebrovascular', 'certificate', 'certificates', 'cervical', 'ces_', 'cesarean', 'cfs', 'cfu', 'cgvhd', 'chain', 'chang', 'change', 'changed', 'changes', 'channels', 'channing', 'chapman', 'characteristic', 'characteristics', 'characterizing', 'charlson', 'charting', 'charts', 'chauvin1', 'chd', 'check', 'checked', 'checklist', 'chemical', 'chemotherapy', 'chest', 'chf', 'chi', 'chicago', 'child', 'child__', 'childhood', 'children', 'chinese', 'choice', 'cholecystectomy', 'cholelithiasis', 'cholesterol', 'chordal', 'chorionic', 'chosen', 'chronic', 'chronotropes', 'ci', 'cigarette', 'cigarettes', 'cineangiograms', 'circulatory', 'circumference', 'circumflex', 'cirrhosis', 'cisplatin', 'citation', 'citrate', 'city', 'civic', 'ck', 'ckmb', 'cl', 'claims', 'class', 'classical', 'classification', 'classified', 'classify', 'classifying', 'claudication', 'clavulanate', 'clb', 'clearance', 'clearances', 'clearly', 'clinic', 'clinical', 'clinically', 'clinicians', 'clopidogrel', 'closed', 'closely', 'closest', 'closing', 'closure', 'clothing', 'clotting', 'clr', 'cluster', 'cm', 'cm2', 'cmv', 'co2', 'coagulasenegative', 'coagulation', 'coaptation', 'coated', 'cockcroft', 'cockroft', 'code', 'code15', 'coded', 'codes', 'coefficient', 'coexistent', 'cognitive', 'cohen', 'cohort', 'cohorts', 'cold', 'collect', 'collected', 'collection', 'collectively', 'colonies', 'colony', 'colorectal', 'com', 'coma', 'combination', 'combine', 'combined', 'commissuroplasty', 'committee', 'committees', 'common', 'commonly', 'communication', 'community', 'comorbid', 'comorbidities', 'comorbidity', 'compact', 'comparable', 'compare', 'compared', 'comparing', 'comparison', 'comparisons', 'compatible', 'complaint', 'complaints', 'complete', 'completed', 'completely', 'completeness', 'complex', 'complexes', 'compliant', 'complication', 'complications', 'component', 'composed', 'composite', 'comprehensibility', 'comprehensive', 'comprised', 'computation', 'computed', 'computer', 'computerized', 'concavity', 'concentration', 'concentrations', 'concept', 'conception', 'concerned', 'concerning', 'conclusion', 'conclusions', 'concomitant', 'concordance', 'concurrent', 'condition', 'conditions', 'condoms', 'conducted', 'conduction', 'coneestive', 'confidence', 'confined', 'confirmation', 'confirmatory', 'confirmed', 'conformity', 'confounders', 'confounding', 'congenital', 'congestion', 'congestive', 'conjugated', 'conjunction', 'consanguineous', 'consciousness', 'consecutive', 'consent', 'consequences', 'consequently', 'considerable', 'consideration', 'considered', 'considers', 'consisted', 'consistent', 'consists', 'constraint', 'consult', 'consultant', 'consultants', 'consultation', 'consultations', 'consulted', 'consumed', 'consumption', 'contact', 'contacted', 'containing', 'contains', 'context', 'contiguous', 'continue', 'continued', 'continuous', 'continuum', 'contraception', 'contraceptive', 'contractility', 'contraction', 'contractions', 'contraindications', 'contralateral', 'contrast', 'contrasted', 'contributed', 'contributing', 'control', 'controlled', 'controlling', 'controls', 'convalescence', 'conventional', 'converted', 'converting', 'cool', 'cooperative', 'copd', 'copy', 'coquard1', 'core', 'coronary', 'corporation', 'correct', 'corrected', 'correcting', 'correlated', 'correlating', 'correlation', 'correlations', 'correspondence', 'corresponding', 'corticosteroids', 'cost', 'costs', 'cough', 'council', 'count', 'counted', 'country', 'counts', 'course', 'covering', 'cox', 'cpk', 'crackles', 'crapo', 'created', 'creati', 'creatine', 'creatinine', 'crepitations', 'crf', 'criteria', 'criterion', 'critical', 'critically', 'critikon', 'crlimit', 'cronbach', 'crop', 'crops', 'cross', 'crossed', 'cs', 'csf', 'ct', 'ctfc', 'ctni', 'ctr', 'cubic', 'cuff', 'culprit', 'culture', 'cultures', 'cumulative', 'cure', 'current', 'currently', 'curve', 'cut', 'cutoff', 'cutoffs', 'cv', 'cvd', 'cyanosis', 'cycle', 'cycles', 'cyclophosphamide', 'cyclosporine', 'cytomegalovirus', 'cytotoxic', 'czech', 'd', 'daily', 'damage', 'danish', 'data', 'database', 'datasets', 'date', 'dates', 'daugirdas', 'davey', 'day', 'days', 'dbp', 'dead', 'dealt', 'death', 'deaths', 'deboer', 'debris', 'deceased', 'december', 'decided', 'deciles', 'decision', 'decisions', 'declines', 'declining', 'decompensation', 'decrease', 'decreased', 'decreases', 'decreasing', 'deemed', 'deep', 'defect', 'defects', 'defibrillation', 'deficient', 'deficit', 'define', 'defined', 'defining', 'definite', 'definition', 'definitions', 'definitive', 'degenerative', 'degradation', 'degree', 'degrees', 'dehydration', 'dehydrogenase', 'dei', 'delay', 'delayed', 'delivered', 'delivery', 'demanded', 'dementia', 'demographic', 'demographics', 'demonstrate', 'demonstrated', 'demonstrating', 'demonstration', 'denominator', 'denoted', 'density', 'department', 'departments', 'dependant', 'dependent', 'depending', 'depletion', 'depolarizations', 'depressed', 'depression', 'depressions', 'depth', 'derived', 'descending', 'descent', 'described', 'describes', 'describing', 'description', 'design', 'designated', 'designations', 'designed', 'detailed', 'details', 'detect', 'detected', 'detection', 'deteriorated', 'determinants', 'determination', 'determine', 'determined', 'develop', 'developed', 'development', 'developmental', 'deviation', 'deviations', 'device', 'devon', 'dextran', 'diabetes', 'diabetic', 'diagnosed', 'diagnosedwithaids', 'diagnoses', 'diagnosing', 'diagnosis', 'diagnostic', 'diagrams', 'dialysate', 'dialysis', 'diameter', 'diaphoresis', 'diary', 'diastolic', 'dichotomous', 'dictations', 'did', 'die', 'died', 'diet', 'dietary', 'differed', 'difference', 'differences', 'different', 'differing', 'diffuse', 'dilated', 'dilation', 'dilations', 'dimension', 'dimensional', 'dimensions', 'dioxide', 'dipstick', 'direct', 'directed', 'directions', 'directory', 'disability', 'disabling', 'disc', 'discharge', 'discharged', 'discharges', 'discomfort', 'discontinuation', 'discovered', 'discussed', 'discussion', 'disease', 'diseased', 'diseases', 'disparity', 'dispensed', 'dispensing', 'displayed', 'dissatisfaction', 'dissatisfied', 'dissection', 'disseminated', 'distance', 'distant', 'distinct', 'distinction', 'distress', 'distribution', 'distributions', 'district', 'districts', 'diuretics', 'diverse', 'diverticulitis', 'divided', 'division', 'dizziness', 'dl', 'dm', 'dna', 'dobutamine', 'doctors', 'document', 'documentation', 'documented', 'documents', 'does', 'dominant', 'dominated', 'donald', 'doppler', 'dose', 'dosed', 'dosing', 'dot', 'double', 'downward', 'doxorubicin', 'dpi', 'dpvv', 'dr', 'drainage', 'drawn', 'drinking', 'drive', 'drivers', 'driving', 'drop', 'dropped', 'drug', 'drugs', 'du', 'duke', 'dummy', 'duncan', 'duplex', 'duration', 'dus', 'dvt', 'dvts', 'dynamap', 'dynamics', 'dysfunction', 'dyspnea', 'dysrhythmia', 'e', 'earlier', 'early', 'easily', 'ebt', 'ecg', 'ecgs', 'echo', 'echocardiographic', 'echocardiography', 'economic', 'economically', 'eczema', 'ed', 'edc', 'edema', 'edge', 'edouard', 'education', 'ef', 'effect', 'effect_', 'effective', 'effects', 'efficacy', 'efficiency', 'efficient', 'effluent', 'effusion', 'ej', 'ejection', 'ekg', 'ekt', 'elderly', 'elective', 'electrocardiogram', 'electrocardiographic', 'electrocardiography', 'electromechanical', 'electronic', 'elements', 'elevated', 'elevation', 'elevations', 'eligible', 'eliminate', 'elvin', 'elypse', 'embolism', 'emergency', 'encounter', 'encouraged', 'end', 'endarterectomy', 'endorterectomy', 'endpoint', 'endpoints', 'engine', 'enlarged', 'enlargement', 'enoxaparin', 'enquiry', 'enrolled', 'enrollment', 'ensure', 'ent', 'enter', 'enteral', 'entered', 'entering', 'enterotomy', 'entire', 'entry', 'environment', 'enzymatic', 'enzyme', 'enzymes', 'ephedrine', 'epicardial', 'epidemiological', 'epidemiology', 'episode', 'episodes', 'episoldes', 'equal', 'equally', 'equation', 'equations', 'equilibrated', 'equivalence', 'equivalent', 'er', 'ere', 'error', 'erythema', 'erythematosus', 'es', 'escorted', 'esophageal', 'especially', 'esrd', 'essence', 'est', 'established', 'estes', 'estimate', 'estimated', 'estimates', 'estimating', 'estimation', 'estimator', 'et', 'etdrs', 'ethics', 'ethnicity', 'etiologies', 'etiology', 'etoposide', 'european', 'evaluate', 'evaluated', 'evaluation', 'evening', 'event', 'events', 'evidence', 'evident', 'evolution', 'evolutionary', 'ewing', 'ex', 'exact', 'examination', 'examinations', 'examine', 'examined', 'examines', 'examining', 'example', 'examples', 'exceeded', 'exceeding', 'exception', 'excess', 'excessive', 'excluded', 'excluding', 'exclusion', 'exclusively', 'excretion', 'excruciating', 'exercise', 'exertion', 'exertional', 'exerts', 'existing', 'exit', 'exogenous', 'expect', 'expectancy', 'expectations', 'expected', 'experience', 'experienced', 'experiencing', 'experimental', 'expiratory', 'explained', 'explanations', 'explanatory', 'explore', 'exposure', 'exposures', 'express', 'expressed', 'expression', 'extended', 'extension', 'extent', 'external', 'extra', 'extracorporeal', 'extracted', 'extraction', 'extragonadal', 'extremely', 'extremities', 'extremity', 'exudate', 'eyes', 'f', 'f1', 'fac', 'factor', 'factorial', 'factors', 'faecal', 'failed', 'failure', 'failure_', 'fall', 'false', 'familial', 'family', 'far', 'fas', 'faster', 'fasting', 'fatal', 'father', 'fatigue', 'fbg', 'fdr', 'federal', 'feeding', 'fell', 'female', 'females', 'femoral', 'fetal', 'fev', 'fev1', 'fever', 'fewer', 'fha', 'fibrillation', 'fibrin', 'fibrinogen', 'fibronectin', 'field', 'fig', 'figure', 'file', 'files', 'filtration', 'final', 'finalising', 'finally', 'financing', 'finding', 'findings', 'fine', 'first_', 'firstly', 'fisher', 'fistula', 'fit', 'fitting', 'fixed', 'fl', 'flail', 'flow', 'fluid', 'fluorescein', 'fluorouracil', 'fluoxetine', 'fmc', 'fn', 'fo', 'focal', 'focused', 'foetoprotein', 'fold', 'follow', 'followed', 'following', 'follows', 'follows11', 'followup', 'fontaine', 'food', 'foot', 'forced', 'forceps', 'forces', 'forget', 'form', 'formal', 'format', 'formed', 'forming', 'forms', 'formula', 'formulary', 'formulas', 'formulations', 'forth', 'forward', 'found__or', 'fourfold', 'fourth', 'fp', 'fpa', 'fpg', 'fraction', 'fractional', 'fracture', 'frames', 'framingham', 'france', 'free', 'french', 'frequent', 'fresenius', 'frisc', 'frozen', 'fulfilling', 'fulfilment', 'fully', 'function', 'functional', 'fungi', 'furthermore', 'g', 'g4', 'ga', 'gains', 'gallop', 'gallstones', 'ganz', 'gary', 'gas', 'gastric', 'gastrointestinal', 'gathered', 'gating', 'gault', 'gbs', 'gcsf', 'gender', 'general', 'generalizable', 'generally', 'generated', 'genes', 'genital', 'genus', 'germany', 'gestation', 'gestational', 'ghesquiere1', 'given', 'glasgow', 'glomerular', 'glucose', 'gonadotropin', 'goodness', 'gp', 'grade', 'graded', 'graders', 'grades', 'gradient', 'graft', 'grafting', 'grain', 'grams', 'grandmother', 'granulation', 'granulocyte', 'granuloma', 'grapes', 'graver', 'great', 'greater', 'greatest', 'gross', 'group', 'grouped', 'groups', 'grove', 'growth', 'gt', 'guidant', 'guideline', 'guidelines', 'guidelines24', 'gung', 'gustave', 'h', 'h_1', 'habits', 'haemoglobin', 'half', 'hamburg', 'hartunian', 'hartz', 'having', 'hazards', 'hcg', 'hcm', 'hd', 'hdl', 'head', 'headache', 'healing', 'health', 'healthy', 'hean', 'heart', 'heaviest', 'height', 'held', 'helicopter', 'hematemesis', 'hematocrit', 'hematoma', 'hematopoietic', 'hematuria', 'hemo', 'hemodialysi', 'hemodialysis', 'hemodynamic', 'hemodynamically', 'hemoglobin', 'hemorrhage', 'hemostasis', 'hemostatic', 'hems', 'heparin', 'hepatic', 'hepatitis', 'herriot', 'hf', 'hg', 'hickman', 'high', 'higher', 'highest', 'hip', 'histological', 'histopathologic', 'historic', 'histories', 'history', 'hiv', 'hnbp', 'hodgkin', 'holter', 'home', 'homogeneity', 'homogeneous', 'homografts', 'homozonal', 'hormonal', 'hormone', 'hosmer', 'hospital', 'hospitalization', 'hospitalizations', 'hospitalized', 'hospitals', 'hostile', 'hour', 'hours', 'household', 'housework', 'houseworks', 'hpv', 'http', 'human', 'humidity', 'hunger', 'hydrocarbons', 'hygiene', 'hypercoagulable', 'hyperglycemia', 'hyperlactatemia', 'hyperlipidemia', 'hypertension', 'hypertensive', 'hypertensives', 'hypertrophic', 'hypertrophied', 'hypertrophy', 'hyperuricemia', 'hypnotics', 'hypoglycemic', 'hypoperfusion', 'hypotension', 'hypotheses', 'hypothesis', 'hypoxia', 'iabp', 'icd', 'icu', 'idea', 'identifiable', 'identification', 'identified', 'identify', 'identifying', 'identity', 'ifg', 'iga', 'igg', 'igm', 'igt', 'ii', 'iib', 'iii', 'iiib', 'iliac', 'ill', 'illinois', 'illness', 'illnesses', 'images', 'imaging', 'immediate', 'immediately', 'immigration', 'immobility', 'immunisation', 'immunocytochemistry', 'immunofluorescence', 'immunoglobulin', 'immunosuppres', 'immunosuppressed', 'impact', 'impair', 'impaired', 'impairment', 'imply', 'importance', 'important', 'imposed', 'improve', 'improved', 'improvement', 'improving', 'imt', 'inability', 'incidence', 'incident', 'incision', 'include', 'included', 'includes', 'including', 'inclusion', 'inclusive', 'incontinence', 'incorporate', 'incorrectly', 'increase', 'increased', 'increasingly', 'independent', 'index', 'indian', 'indiana', 'indianapolis', 'indicate', 'indicated', 'indication', 'indications', 'indicator', 'indicators', 'indices', 'individual', 'individuals', 'induced', 'inducement', 'induration', 'ineligible', 'infant', 'infants', 'infarct', 'infarction', 'infarcts', 'infection', 'infections', 'infiltrated', 'infiltrates', 'infirmary', 'inflammation', 'inflammatory', 'inflection', 'inflow', 'influencing', 'informatics', 'information', 'infusion', 'ing', 'ingredient', 'inhabitants', 'inhaled', 'inhaler', 'inhibition', 'inhibitors', 'initial', 'initially', 'initiated', 'initiating', 'initiation', 'injury', 'inml', 'inoperable', 'inotropes', 'inpatient', 'inpatients', 'inputs', 'inquired', 'inquiry', 'insertion', 'insight', 'insignificant', 'instability', 'instance', 'instances', 'instead', 'institute', 'institution', 'institutional', 'instrument', 'instrumental', 'insufficiency', 'insulin', 'insulndependent', 'insurance', 'intake', 'integral', 'intensity', 'intensive', 'intention', 'interaction', 'interested', 'interim', 'intermediate', 'intermittent', 'internal', 'international', 'interpretable', 'interruption', 'interval', 'intervals', 'intervention', 'interventional', 'interventions', 'interventricular', 'interview', 'interviewed', 'interviews', 'intestinal', 'intestines', 'intima', 'intimal', 'intoxicated', 'intra', 'intractable', 'intrapartum', 'intravascular', 'intravenous', 'intravenously', 'intrinsic', 'introduction', 'inulin', 'invalid', 'invasive', 'inversion', 'inverted', 'investigated', 'investigations', 'investigator', 'investigators', 'invited', 'involuntary', 'involved', 'involvement', 'involving', 'iodine', 'ioo', 'ipsilateral', 'ireland', 'irifafu', 'iron', 'irregular', 'irregularities', 'irrespective', 'irreversible', 'ischaemia', 'ischaemic', 'ischemia', 'ischemia_', 'ischemic', 'ischmie', 'isoelectric', 'isoenzyme', 'isoenzyme__yocardial', 'isoenzymes', 'isoform', 'isolated', 'isolation', 'isothiocyanate', 'israel', 'issue', 'issued', 'issues', 'item', 'items', 'iugr', 'iv', 'j', 'jaffe', 'jane', 'january', 'jersey', 'jewish', 'jnc', 'johnson', 'joint', 'jomed', 'jostent', 'journal', 'judged', 'judgement', 'july', 'june', 'junior', 'just', 'k', 'kaplan', 'karelia', 'kaunas', 'kcals', 'keeping', 'ketoprofen', 'key', 'kg', 'kidney', 'killip', 'kilometers', 'kimberling', 'kinase', 'kind', 'kinetic', 'kingdom', 'kit', 'kiwi', 'known', 'korean', 'koreans', 'kruskal__allis', 'kt', 'kutta', 'l', 'la', 'label', 'laboratory', 'labour', 'lack', 'lactate', 'language', 'large', 'larger', 'largest', 'laryngeal', 'laser', 'lasted', 'lasting', 'late', 'later', 'latest', 'ldh', 'ldh1gt', 'ldh2', 'ldl', 'lead', 'leading', 'leads', 'leaflet', 'leaflets', 'leak', 'learning', 'leaving', 'lecesne2', 'lecturer', 'left', 'leg', 'legal', 'lemeshow', 'length', 'lens', 'leon', 'leric', 'lesion', 'lesions', 'letter', 'leukaemia', 'leukemia', 'level', 'levels', 'levey', 'lexington', 'library', 'lidocaine', 'life', 'lifestyle', 'lifetime', 'light', 'likelihood', 'likely', 'limb', 'limit', 'limited', 'limiting', 'limits', 'limp', 'line', 'linear', 'linearly', 'link', 'linked', 'lipoprotein', 'listed', 'liter', 'liters', 'litre_1', 'live', 'liver', 'living', 'lmp', 'lobe', 'local', 'localized', 'localizes', 'locally', 'location', 'log', 'logarithmic', 'logist', 'logistic', 'logit', 'london', 'long', 'longer', 'longitudinal', 'loop', 'lorraine', 'loss', 'lost', 'low', 'lower', 'lowest', 'lt', 'lumen', 'luminal', 'lung', 'lupus', 'lurotin', 'lv', 'lvd', 'lve', 'lvedd', 'lvef', 'lvrs', 'lymphocytes', 'lymphoma', 'lymphomas', 'lyon', 'm', 'm2', 'm3', 'm4n', 'ma', 'ma2', 'mace', 'macgillivary', 'macroalbuminuria', 'magnetic', 'magnitude', 'magnitudes', 'main', 'mainly', 'maintain', 'maintained', 'major', 'majority', 'make', 'making', 'malaise', 'male', 'malformations', 'malignancies', 'malignancy', 'malperfusion', 'manage', 'managed', 'management', 'manifestation', 'manifested', 'manitoba', 'mann', 'manner', 'manufactured', 'manufacturers', 'mape', 'maple', 'march', 'marik', 'marik1', 'marital', 'marked', 'marker', 'markers', 'marsha', 'mass', 'match', 'matched', 'matching', 'materials', 'maternal', 'maternity', 'mathematical', 'maxillofacial', 'maximal', 'maximum', 'mb', 'mbs', 'mcnemar', 'mdi', 'mean', 'meaning', 'means', 'meant', 'measurable', 'measure', 'measured', 'measurement', 'measurements', 'measures', 'measuring', 'mechanical', 'media', 'median', 'medians', 'medicaid', 'medical', 'medicare', 'medication', 'medications', 'medicine', 'medium', 'medline', 'meet', 'meeting', 'meier', 'mellitus', 'member', 'members', 'membership', 'membranes', 'memorial', 'mems', 'men', 'meningitis', 'menopausal', 'mental', 'meq', 'merged', 'merges', 'met', 'meta', 'metabolic', 'metastases', 'metastatic', 'meter', 'method', 'methodist', 'methods', 'methotrexate', 'mg', 'mi', 'microalbuminuria', 'midwife', 'mild', 'mildly', 'miles', 'miller', 'min', 'minimal', 'minimum', 'minnesota', 'minor', 'minute', 'minutes', 'mis', 'mismatched', 'missing', 'mitral', 'miu', 'mix', 'mixed', 'ml', 'ml71', 'mld', 'mm', 'mm2and', 'mm3', 'mm__g', 'mmhg', 'mmol', 'mo', 'mobile', 'modalities', 'modality', 'model', 'modeled', 'modeling', 'modelling', 'models', 'moderate', 'moderately', 'modification', 'modifications', 'modified', 'mol', 'mon', 'monica', 'monika', 'monitor', 'monitoring', 'monoclonal', 'mononuclear', 'month', 'months', 'moran', 'morbidity', 'morning', 'morphologic', 'mortality', 'mother', 'mothers', 'motion', 'motivation', 'motor', 'mouse', 'movement', 'mph', 'mri', 'ms', 'mug', 'multi', 'multifocal', 'multiplanar', 'multiple', 'multiplying', 'multivariable', 'multivariate', 'multivessel', 'munich', 'murmur', 'muscle', 'music', 'mutation', 'mv', 'myelodysplasia', 'myeloproliferative', 'myers', 'myocardial', 'myoglobin', 'n', 'n1', 'na', 'nard', 'narrow', 'narrowing', 'nasal', 'nascet', 'nation', 'national', 'nature', 'nausea', 'nave', 'ndc', 'near', 'nearly', 'nebulised', 'nebulized', 'necessitated', 'necessitating', 'necessity', 'neck', 'neck__', 'neck__ortic', 'necrosis', 'need', 'needed', 'needs', 'negative', 'neglected', 'neoadjuvant', 'neonatal', 'neoplasm', 'nerve', 'nervous', 'net', 'network', 'neuroblastoma', 'neurologic', 'neurological', 'neurologist', 'nevus', 'new', 'newly', 'ng', 'nhanes', 'nhl', 'nhs', 'niddm', 'night', 'nineteen', 'ninety', 'nir', 'nitrates', 'nitrogen', 'nitroglycerin', 'nmol', 'noble', 'nodal', 'nodes', 'non', 'non__', 'nonadhd', 'nonambulatory', 'nonanginal', 'nonatherosclerotic', 'noncardiac', 'noncardiovascular', 'noncategorical', 'nondiabetic', 'nondiagnostic', 'nondilated', 'nonemergency', 'nonfasting', 'nonfatal', 'nonfocal', 'nonhemispheric', 'nonhodgkin', 'noninfarcted', 'noninvasive', 'nonischemic', 'nonlinear', 'nonmelanoma', 'nonmetastatic', 'nonmodifiable', 'nonobstetric', 'nonparticipants', 'nonpulmonary', 'nonrandomized', 'nonspecific', 'nonsustained', 'norm', 'normal', 'normalized', 'normotension', 'north', 'noted', 'notes', 'november', 'nrmi', 'ns', 'nsclc', 'nsgct', 'nuclear', 'nulliparity', 'number', 'numbers', 'numerical', 'nurses', 'nursing', 'nutrition', 'nyha', 'o', 'oa', 'oberhammer', 'obese', 'obesity', 'object', 'obliteration', 'observation', 'observational', 'observations', 'observed', 'observers', 'obstetric', 'obstruction', 'obstructions', 'obstructive', 'obtain', 'obtained', 'obtains', 'obvious', 'occasions', 'occluded', 'occlusion', 'occlusive', 'occult', 'occupational', 'occurred', 'occurrence', 'occurring', 'oct', 'october', 'odds', 'oedema', 'oesophagectomies', 'oesophagectomy', 'oestrogen', 'ofdrinking', 'offered', 'office', 'officer', 'offspring', 'ofguidelines', 'ofketoprofen', 'ofpatients', 'ofrecurrent', 'ofstudy', 'ofthe', 'ofthese', 'old', 'older', 'oliguria', 'oncologic', 'ond', 'ongoing', 'online', 'only20', 'onset', 'ontario', 'open', 'openface', 'operable', 'operated', 'operating', 'operation', 'operative', 'operator', 'opposed', 'optimistic', 'options', 'oral', 'orally', 'orcardiogenic', 'orchards', 'order', 'ordinate', 'org', 'organ', 'organisation', 'organism', 'organization', 'organs', 'orientation', 'origin', 'original', 'ors', 'orthopedic', 'orthostatic', 'orthotopic', 'oscorel', 'osf', 'ottawa', 'outcome', 'outcomes', 'outflow', 'outings', 'outpatient', 'output', 'ovarian', 'overactive', 'overall', 'overlap', 'overweight', 'owing', 'ownership', 'oxides', 'oxygen', 'p', 'p24', 'pa', 'pack', 'package', 'paclitaxel', 'paco', 'paco2', 'page', 'pahs', 'pain', 'paired', 'palmaz', 'pancreas', 'papaverine', 'paper', 'paquet', 'paradoxus', 'paralysis', 'parameter', 'parameters', 'parametric', 'parapertussis', 'parasternal', 'parcels', 'parental', 'parenterally', 'parents', 'paris', 'parity', 'parkinson__', 'partial', 'participants', 'participate', 'participating', 'participation', 'particles', 'particular', 'past', 'pasture', 'patency', 'path', 'pathologic', 'pathological', 'pathologically', 'pathology', 'patient', 'patient__', 'patients', 'patients_', 'patienu', 'pattern', 'paul', 'payments', 'pci', 'pcr', 'pd', 'peak', 'peaked', 'peaking', 'pearson', 'pectoris', 'pediatric', 'peers', 'pefr', 'pelvic', 'penetrating', 'penicillin', 'pennsylvania', 'penultimate', 'people', 'peptic', 'percent', 'percentage', 'percentile', 'perceptions', 'percutaneous', 'perforation', 'perform', 'performed', 'perfusion', 'peribronchial', 'perinatal', 'period', 'periodic', 'periods', 'perioperative', 'peripheral', 'peritoneal', 'peritonitis', 'perivalvular', 'perivascular', 'permanent', 'persisted', 'persistent', 'persisting', 'personal', 'persons', 'perspective', 'pertussis', 'perugia', 'pesticide', 'pesticides', 'peter', 'pg', 'phantom', 'pharma', 'pharmacy', 'phase', 'phone', 'phosphatase', 'phosphokinase', 'phrases', 'phylline', 'physical', 'physician', 'physicians', 'picrate', 'pieces', 'piecewise', 'pigmentation', 'pill', 'pistachios', 'pittsburgh', 'pkd', 'place', 'placebo', 'placement', 'plans', 'plaque', 'plaques', 'plasma', 'plasty', 'plateau', 'platelet', 'played', 'pleural', 'plots', 'plotting', 'plss', 'plums', 'plus', 'pm1o', 'pm2', 'pm25', 'pmarik', 'pmi0', 'pneumococcal', 'pneumocystis', 'pneumonia', 'pneumoniae', 'pneumothorax', 'pod', 'point', 'points', 'poisson', 'policy', 'pollutant', 'pollution', 'polycyclic', 'polymerase', 'polymorphic', 'polyposis', 'polyuria', 'pool', 'pooled', 'poor', 'popliteal', 'population', 'populations', 'por', 'position', 'positive', 'positivity', 'possibility', 'possible', 'post', 'postal', 'postdelivery', 'postdialysis', 'posterior', 'postgraduate', 'posthemodialysis', 'postmenopausal', 'postnatal', 'postoperative', 'postoperatively', 'postpartum', 'postprandial', 'postprocedure', 'potassium', 'potential', 'potentially', 'pp', 'ppbg', 'ppe', 'pr', 'practical', 'practice', 'practices', 'practitioner', 'practitioners', 'pre', 'precatheterization', 'preceding', 'precordial', 'predefined', 'predetermined', 'predict', 'predicted', 'prediction', 'predictive', 'predictor', 'predictors', 'predischarge', 'prednisone', 'predominantly', 'preference', 'pregnancy', 'prehemodialysis', 'premature', 'prematurity', 'premenopausal', 'premise', 'preoperative', 'prescribed', 'prescription', 'prescriptions', 'presence', 'present', 'presentation', 'presentations', 'presented', 'presenting', 'prespecified', 'pressors', 'pressure', 'pressure160', 'pressures', 'presumed', 'preterm', 'pretest', 'pretesting', 'prevalence', 'prevalent', 'previous', 'previously', 'previouslyreported', 'primarily', 'primary', 'principal', 'prior', 'priority', 'probabilities', 'probability', 'probenecid', 'problem', 'problems', 'proc', 'procedural', 'procedure', 'procedures', 'process', 'producing', 'product', 'production', 'products', 'professionals', 'profile', 'profound', 'progesterone', 'prognoses', 'prognosis', 'prognostic', 'program', 'programs', 'progresses', 'progressing', 'progression', 'progressive', 'project', 'prolapse', 'prolongation', 'prolonged', 'prom', 'proper', 'properly', 'prophylactic', 'proportion', 'proportional', 'proportions', 'proposed', 'prospective', 'prospectively', 'prostate', 'prostheses', 'prosthesis', 'prosthetic', 'prothrombin', 'protocol', 'protruding', 'proven', 'provide', 'provided', 'provision', 'provisional', 'proximal', 'pruritus', 'pryor', 'pseudoaneurysm', 'psp', 'psv', 'psychiatric', 'psychotropic', 'pt', 'pta', 'ptca', 'ptx', 'public', 'publication', 'published', 'pubmed', 'puerperal', 'pulmonary', 'pulse', 'pulsus', 'pump', 'pura', 'purpose', 'purposes', 'purpura', 'pursuit', 'purulent', 'push', 'pyloric', 'q', 'qol', 'qrs', 'qs', 'qt', 'qualified', 'qualitative', 'quality', 'quarter', 'quartiles', 'query', 'question', 'questionnaire', 'questionnaires', 'questions', 'quintile', 'quit', 'qwmi', 'r', 'ra', 'race', 'radiation', 'radiographic', 'radiologic', 'radiological', 'radiologically', 'radiologie', 'radiotherapy', 'random', 'randomization', 'randomized', 'randomly', 'range', 'ranged', 'rangendingen', 'ranges', 'ranging', 'rank', 'rapid', 'rare', 'rate', 'rates', 'rating', 'ratio', 'ratios', 'ravl', 'rawles', 'ray', 'rdless', 'reached', 'reaction', 'read', 'readmission', 'readmissions', 'readmitted', 'reasonably', 'reasons', 'rebound', 'receipt', 'receive', 'received', 'receiver', 'receiving', 'recent', 'recently', 'receptor', 'recipients', 'reciprocal', 'recoarctation', 'recognise', 'recognize', 'recognized', 'recommendations', 'recommended', 'reconstructed', 'reconstructions', 'record', 'recorded', 'recording', 'records', 'recovery', 'recruited', 'recurrence', 'recurrences', 'recurrent', 'redness', 'redominant', 'reduce', 'reduced', 'reduction', 'reeureitation', 'reference', 'referral', 'referred', 'referring', 'refers', 'reflected', 'reflects', 'refractory', 'regard', 'regarded', 'regarding', 'regardless', 'regimen', 'regimens', 'region', 'register', 'registered', 'registration', 'registry', 'regression', 'regressions', 'regular', 'regularly', 'regurgitation', 'rehospitalization', 'reinfarction', 'reinfection', 'rejected', 'relapse', 'relapsed', 'relate', 'related', 'relation', 'relations', 'relationship', 'relationships', 'relative', 'relatively', 'relatives', 'relevant', 'rely', 'remain', 'remaining', 'remains', 'remission', 'remler', 'remote', 'renal', 'renderings', 'reoccluded', 'repair', 'repeat', 'repeated', 'reperfusion', 'replacement', 'repolarization', 'report', 'reported', 'reporting', 'reports', 'represent', 'representing', 'reprints', 'reproductive', 'republic', 'requested', 'require', 'required', 'requires', 'requiring', 'research', 'resected', 'resection', 'residence', 'residency', 'residential', 'residing', 'residual', 'residuals', 'resistance', 'resolution', 'resolved', 'resonance', 'resource', 'resources', 'respect', 'respectively', 'respiratory', 'respondent', 'responders', 'response', 'responses', 'responsible', 'responsive', 'rest', 'restenosis', 'resting', 'restricting', 'result', 'resulted', 'resulting', 'results', 'resumption', 'resuscitation', 'retention', 'retinoblastoma', 'retinopathy', 'retroperitoneal', 'retrospective', 'retrospectively', 'return', 'returns', 'revascularization', 'reversal', 'reverse', 'reversibility', 'reversible', 'reverted', 'review', 'reviewed', 'reviewing', 'revised', 'rhythm', 'rhythni', 'ri', 'rib', 'right', 'rise', 'rising', 'risk', 'risks', 'robertson', 'role', 'roles', 'romhilt', 'room', 'rose', 'rosser', 'rotterdam', 'roussy', 'routine', 'routinely', 'rovner', 'royal', 'rrs', 'rt', 'run', 'runge', 'rupture', 'rural', 's', 's3', 'safety', 'salvage', 'sample', 'sampled', 'samples', 'samplewas', 'sampling', 'sao', 'sarcoma', 'sas', 'saskatchewan', 'saskatoon', 'satisfied', 'say', 'sbp', 'scale', 'scan', 'scanning', 'scans', 'scatter', 'scenario', 'schatz', 'schedule', 'scheme', 'school', 'science', 'sciences', 'scientific', 'scimed', 'score', 'scored', 'scores', 'scoring', 'scottish', 'scr', 'screened', 'screening', 'scrutinised', 'sd', 'sds', 'se', 'search', 'searched', 'searches', 'searching', 'sebban1', 'second', 'secondand', 'secondary', 'secondly', 'section', 'sectional', 'sections', 'security', 'sedatives', 'seen', 'segment', 'segmental', 'seizures', 'selected', 'selectedhospitals', 'selection', 'selective', 'selectively', 'self', 'semistructured', 'seniors', 'sensitive', 'sensitivity', 'sensory', 'sent', 'separate', 'separated', 'separately', 'separating', 'sepsis', 'septal', 'september', 'septic', 'septicemia', 'septostomy', 'septum', 'sequence', 'sera', 'serial', 'series', 'serum', 'served', 'servere', 'service', 'services', 'session', 'sessions', 'set', 'sets', 'setting', 'seven', 'seventy', 'severe', 'severely', 'severity', 'sex', 'sf', 'sfgc', 'sgc', 'sgcs', 'shaded', 'shafter', 'sheep', 'sheets', 'shock', 'shopping', 'short', 'shortening', 'shorter', 'shortness', 'showed', 'showing', 'shown', 'shows', 'shutdown', 'siblings', 'sicog', 'sign', 'signal', 'significance', 'significant', 'significantly', 'signs', 'silent', 'similar', 'similarity', 'similarly', 'simple', 'simpler', 'simplified', 'simplify', 'simulation', 'simultaneous', 'single', 'singleton', 'sinus', 'site', 'sites', 'sitting', 'size', 'skin', 'skull', 'sleep', 'small', 'smart', 'smithkline', 'smn', 'smoked', 'smoker', 'smokers', 'smoking', 'smr', 'social', 'societies', 'society', 'socio', 'socioeconomic', 'sodium', 'soft', 'software', 'solid', 'solution', 'solutions', 'somewhat', 'sore', 'sought', 'source', 'sources', 'southern', 'special', 'specialized', 'specific', 'specifically', 'specificity', 'specified', 'specimen', 'specimens', 'spermicide', 'spinal', 'spiral', 'spirometry', 'spkt', 'spline', 'sponsored', 'spontaneous', 'spray', 'spss', 'spuriously', 'sputum', 'squamous', 'square', 'squared', 'sr', 'st', 'stability', 'stable', 'staff', 'stage', 'stages', 'staging', 'standard', 'standardised', 'standardized', 'standards', 'staphylococcus', 'start', 'started', 'starting', 'state', 'states', 'statistic', 'statistic0', 'statistical', 'statistically', 'statistics', 'status', 'stay', 'stem', 'stenoses', 'stenosis', 'stenosisgt', 'stent', 'step', 'steps', 'stepwise', 'sternal', 'steroid', 'steroids', 'stevenson', 'stimulating', 'stoma', 'stopped', 'stopping', 'storage', 'stored', 'strain', 'strategies', 'strategy', 'strathclyde', 'stratified', 'stress', 'stroke', 'strokes', 'strong', 'structured', 'student', 'studied', 'studies', 'study', 'subacute', 'subclinical', 'subgroup', 'subgroups', 'subject', 'subjects', 'submitted', 'subsequent', 'subsequently', 'subset', 'subsidized', 'substantially', 'subtracted', 'subtracting', 'subunits', 'suburb', 'successful', 'sudden', 'suffered', 'sufficiently', 'sugar', 'suggested', 'suggestive', 'suitable', 'sulfates', 'sum', 'summarised', 'summarized', 'summary', 'summer', 'sunnybrook', 'supervision', 'supplementary', 'support', 'surface', 'surgeon', 'surgeons', 'surgeries', 'surgery', 'surgical', 'surrounding', 'surveillance', 'survey', 'survival', 'survive', 'survivors', 'susceptibility', 'suspected', 'suspension', 'suspicious', 'sustained', 'sv3', 'svarstad', 'swan', 'sweats', 'swelling', 'switch', 'symmetrically', 'symptom', 'symptomatic', 'symptoms', 'syncopal', 'syncope', 'syndrome', 'syndromes', 'systematic', 'systemic', 'systems', 'systolic', 't', 'table', 'tables', 'tachyarrhythmias', 'tachycardia', 'tail', 'taiwan', 'taken', 'takeoff', 'takes', 'taking', 'tamoxifen', 'tampa', 'tandem', 'taper__radual', 'tapered', 'tar', 'target', 'task', 'tasks', 'tat', 'taylor', 'tb', 'tc', 'td', 'teaching', 'team', 'technique', 'techniques', 'tee', 'telephone', 'telithromycin', 'temecula', 'temperature', 'temporal', 'temporally', 'tenderness', 'teplice', 'term', 'terminal', 'terms', 'territories', 'tertile', 'tertiles', 'test', 'tested', 'testing', 'tests', 'text', 'th', 'thallium', 'thawed', 'theffs', 'theophylline', 'therapeutic', 'therapies', 'therapy', 'thickening', 'thickness', 'thirst', 'thirty', 'thompson27', 'thoracoabdominal', 'thought', 'threat', 'threatening', 'threefold', 'threshold', 'throat', 'thrombi', 'thrombocytopenic', 'thrombolysis', 'thrombolytic', 'thromboplastin', 'thrombosis', 'thrombotic', 'thrombus', 'thrombus__hrombus', 'thyroid', 'tia', 'tias', 'ticked', 'ticlopidine', 'tidal', 'tightest', 'time', 'times', 'timi', 'timing', 'ting', 'tirofiban', 'tissue', 'titration', 'tn', 'tolerance', 'tolerated', 'tomographic', 'tomography', 'took', 'toronto', 'total', 'toxic', 'toxicities', 'toxicity', 'tp', 'tr', 'trace', 'tracings', 'tract', 'traditional', 'trained', 'training', 'tranquilizers', 'transaminase', 'transcribed', 'transfer', 'transfers', 'transformation', 'transformations', 'transfusion', 'transient', 'transition', 'transluminal', 'transmural', 'transplant', 'transplantation', 'transplantations', 'transported', 'transposition', 'transtelephonic', 'transthoracic', 'trauma', 'treadmill', 'treat', 'treated', 'treating', 'treatment', 'treatment_', 'treatments', 'tree', 'trees', 'trend', 'trends', 'trial', 'trichotomized', 'tricyclic', 'triggered', 'triglyceride', 'triglycerides', 'trimester', 'trimming', 'tropical', 'troponin', 'trough', 'truck', 'true', 'ttest', 'tumour', 'tumours', 'turn', 'tw__egment', 'twice', 'twofold', 'type', 'typed', 'types', 'typical', 'typically', 'u', 'ua', 'ug', 'ugs', 'ukm', 'ulcer', 'ulcerated', 'ulm', 'uln', 'ultrasonic', 'ultrasonographic', 'ultrasound', 'unable', 'unaffected', 'unbiased', 'uncertainty', 'uncontrollable', 'uncontrolled', 'uncorrected', 'undergo', 'undergoing', 'undergone', 'underlying', 'undertaken', 'underweight', 'underwent', 'undetectable', 'undiluted', 'unequivocally', 'unescorted', 'uneventful', 'unexplained', 'unilateral', 'union', 'unit', 'united', 'units', 'univariate', 'university', 'unknown', 'unless', 'unlikely', 'unnarrowed', 'unrecognised', 'unrelated', 'unstable', 'unsuccessful', 'unsuitable', 'untreated', 'unusual', 'up_', 'upper', 'urban', 'urea', 'urge', 'urgency', 'urgent', 'urinary', 'urinate', 'urine', 'urokinase', 'urr', 'usa', 'usage', 'use', 'used', 'usefulness', 'using', 'usrds', 'usual', 'usually', 'utest', 'utilization', 'uvb', 'v', 'vacuum', 'vaginal', 'vagolytics', 'vague', 'validated', 'validating', 'validation', 'validity', 'value', 'values', 'valve', 'valvular', 'variability', 'variable', 'variables', 'variant', 'variation', 'varices', 'varicose', 'varied', 'varies', 'various', 'vary', 'varying', 'vascular', 'vasopressors', 'vathaire', 'vc', 'vein', 'veins', 'velocity', 'venography', 'venous', 'ventilated', 'ventilation', 'ventilatory', 'ventricle', 'ventricles', 'ventricular', 'verified', 'version', 'versus', 'vessel', 'vessels', 'vi', 'vigorous', 'vii', 'vincent', 'violence', 'viral', 'visceral', 'visit', 'visited', 'visitor', 'visits', 'visual', 'visualization', 'visually', 'vital', 'vol', 'volume', 'vomiting', 'vr', 'vs', 'vt', 'w', 'waeber', 'waist', 'walker', 'walking', 'walks', 'wall', 'ward', 'warfarin', 'warmed', 'warranted', 'warren', 'wasgt', 'water', 'watt', 'wave', 'waves', 'way', 'ways', 'weather', 'wedge', 'week', 'weekly', 'weeks', 'weighing', 'weight', 'weighted', 'weightings', 'weights', 'wein', 'wellness', 'wheezing', 'whichever', 'white', 'whitney', 'wide', 'wilcoxon', 'wilm', 'winnipeg', 'winter', 'witnessed', 'wmi', 'wmsi', 'woman', 'women', 'work', 'world', 'worse', 'worsening', 'wound', 'written', 'www', 'x', 'x25', 'xray', 'y', 'year', 'years', 'yearsa1', 'yes', 'yielded', 'york', 'young', 'younger', 'yr', 'zaloga', 'zaloga2', 'zbzoom', 'zero', 'zip']\n"
          ],
          "name": "stdout"
        }
      ]
    },
    {
      "cell_type": "code",
      "metadata": {
        "id": "troln01v58DC",
        "colab": {
          "base_uri": "https://localhost:8080/"
        },
        "outputId": "19617961-7dd3-443a-814c-08e288cf7b2f"
      },
      "source": [
        "# then we take this count vectorization and implement this into our X (data)\n",
        "# xtrain_count_vector is the count vectorization of the training data  (train_data_x) and likewise for the validation data\n",
        "print(count_vectorization.fit(train_data_DF['text']))\n",
        "xtrain_count_vector =  count_vectorization.transform(train_data_x)\n",
        "xvalid_count_vector =  count_vectorization.transform(valid_data_x)\n",
        "print(xvalid_count_vector)\n",
        "\n",
        "# (0,3) 1 -> in the first row/sentence, in the third column there is a feature present\n",
        "# (1,3) 1 -> sencond sent, third column there is a feature present\n",
        "# not every column will have a feature present it seems\n",
        "# only showing 4 rows (0-3) since only 40% of lines are for test/valid while 60% for train"
      ],
      "execution_count": null,
      "outputs": [
        {
          "output_type": "stream",
          "text": [
            "CountVectorizer(analyzer='word', binary=False, decode_error='strict',\n",
            "                dtype=<class 'numpy.int64'>, encoding='utf-8', input='content',\n",
            "                lowercase=True, max_df=1.0, max_features=None, min_df=1,\n",
            "                ngram_range=(1, 1), preprocessor=None, stop_words='english',\n",
            "                strip_accents=None, token_pattern='\\\\w{1,}', tokenizer=None,\n",
            "                vocabulary=None)\n",
            "  (0, 13)\t1\n",
            "  (0, 267)\t1\n",
            "  (0, 268)\t1\n",
            "  (0, 285)\t1\n",
            "  (0, 286)\t1\n",
            "  (0, 812)\t1\n",
            "  (0, 851)\t1\n",
            "  (0, 928)\t1\n",
            "  (0, 993)\t1\n",
            "  (0, 1075)\t1\n",
            "  (0, 1274)\t1\n",
            "  (0, 1279)\t1\n",
            "  (0, 1354)\t1\n",
            "  (0, 1639)\t1\n",
            "  (0, 1694)\t2\n",
            "  (0, 1745)\t2\n",
            "  (0, 1899)\t1\n",
            "  (0, 2318)\t2\n",
            "  (0, 2485)\t1\n",
            "  (0, 2662)\t1\n",
            "  (0, 2962)\t1\n",
            "  (0, 3259)\t1\n",
            "  (0, 3377)\t1\n",
            "  (0, 3429)\t1\n",
            "  (0, 3752)\t1\n",
            "  :\t:\n",
            "  (183, 1271)\t1\n",
            "  (183, 1392)\t1\n",
            "  (183, 1611)\t1\n",
            "  (183, 1912)\t1\n",
            "  (183, 2038)\t1\n",
            "  (183, 2139)\t1\n",
            "  (183, 2226)\t1\n",
            "  (183, 2644)\t1\n",
            "  (183, 2786)\t1\n",
            "  (183, 2801)\t1\n",
            "  (183, 3426)\t1\n",
            "  (183, 3428)\t1\n",
            "  (183, 3634)\t1\n",
            "  (183, 3887)\t1\n",
            "  (184, 728)\t1\n",
            "  (184, 886)\t1\n",
            "  (184, 965)\t1\n",
            "  (184, 1223)\t1\n",
            "  (184, 1605)\t1\n",
            "  (184, 2785)\t1\n",
            "  (184, 3104)\t1\n",
            "  (184, 3201)\t1\n",
            "  (184, 3484)\t1\n",
            "  (184, 3486)\t1\n",
            "  (184, 4019)\t1\n"
          ],
          "name": "stdout"
        }
      ]
    },
    {
      "cell_type": "code",
      "metadata": {
        "id": "EdZaagja5_tu",
        "colab": {
          "base_uri": "https://localhost:8080/"
        },
        "outputId": "d2cd8667-a660-46f9-87bb-444753083bb3"
      },
      "source": [
        "# word level TF-IDF\n",
        "# validation data word level - gives frequency of word in sent? and frequency of term in the entire text?\n",
        "# max_features selects most important N (50) features to use in calc\n",
        "# token_pattern helps us define what a token is - here we have that a token must contain at least 1 character to be included. Don't really need to change this. Max_features will take care of most important features\n",
        "tfidf_vectorization = TfidfVectorizer(analyzer='word', stop_words='english', token_pattern=r'\\w{1,}', max_features=50)\n",
        "tfidf_vectorization.fit(train_data_DF['text'])\n",
        "xtrain_tfidf =  tfidf_vectorization.transform(train_data_x)\n",
        "xvalid_tfidf =  tfidf_vectorization.transform(valid_data_x)\n",
        "print((\"These are word features: \", tfidf_vectorization.get_feature_names()))\n",
        "print(xvalid_tfidf)"
      ],
      "execution_count": null,
      "outputs": [
        {
          "output_type": "stream",
          "text": [
            "('These are bigram features: ', ['0', '1', '2', '3', '4', '5', '6', 'age', 'artery', 'blood', 'cancer', 'cardiac', 'clinical', 'coronary', 'criteria', 'data', 'death', 'defined', 'diagnosis', 'disease', 'dl', 'failure', 'follow', 'following', 'gt', 'heart', 'hg', 'history', 'hospital', 'hypertension', 'included', 'infarction', 'left', 'level', 'lt', 'mg', 'mm', 'myocardial', 'new', 'normal', 'pain', 'patient', 'patients', 'renal', 'risk', 'study', 'treatment', 'used', 'using', 'ventricular'])\n",
            "  (0, 34)\t0.7685478205669994\n",
            "  (0, 18)\t0.36006009486399415\n",
            "  (0, 17)\t0.2407969929479184\n",
            "  (0, 12)\t0.38180656191557266\n",
            "  (0, 1)\t0.27555676920318384\n",
            "  (1, 42)\t1.0\n",
            "  (2, 45)\t0.16550246667065382\n",
            "  (2, 42)\t0.12435133613221853\n",
            "  (2, 36)\t0.5874858051810374\n",
            "  (2, 27)\t0.18329433552595462\n",
            "  (2, 26)\t0.6424849579959537\n",
            "  (2, 24)\t0.3870268829539991\n",
            "  (2, 17)\t0.12582751933816877\n",
            "  (3, 44)\t0.2853000234388891\n",
            "  (3, 30)\t0.24665859625541672\n",
            "  (3, 10)\t0.9261551886801026\n",
            "  (4, 46)\t0.8427226016993891\n",
            "  (4, 42)\t0.5383480440988088\n",
            "  (5, 36)\t0.48554477703171744\n",
            "  (5, 34)\t0.24893653680343594\n",
            "  (5, 26)\t0.5310004308618942\n",
            "  (5, 24)\t0.23990224095449217\n",
            "  (5, 17)\t0.15599073445530784\n",
            "  (5, 11)\t0.49467632700835196\n",
            "  (5, 9)\t0.23200039471751627\n",
            "  :\t:\n",
            "  (176, 5)\t0.3763663452811912\n",
            "  (177, 46)\t0.3876051859829729\n",
            "  (177, 42)\t0.4952198821669262\n",
            "  (177, 5)\t0.7227121915998291\n",
            "  (177, 1)\t0.2867168921055271\n",
            "  (179, 47)\t0.38557218589380976\n",
            "  (179, 37)\t0.3977734556214377\n",
            "  (179, 31)\t0.41153633870579465\n",
            "  (179, 25)\t0.433141083128018\n",
            "  (179, 14)\t0.42179768788169847\n",
            "  (179, 0)\t0.3977734556214377\n",
            "  (181, 42)\t0.4991216070122472\n",
            "  (181, 10)\t0.8665319506016568\n",
            "  (182, 45)\t0.04646397943722629\n",
            "  (182, 42)\t0.06982201584387046\n",
            "  (182, 22)\t0.3525729752154242\n",
            "  (182, 15)\t0.05531430067950632\n",
            "  (182, 6)\t0.22549525000981482\n",
            "  (182, 5)\t0.2037931993830264\n",
            "  (182, 4)\t0.38254447141568876\n",
            "  (182, 3)\t0.3566380989202962\n",
            "  (182, 2)\t0.5428232633646585\n",
            "  (182, 1)\t0.32339818499531825\n",
            "  (182, 0)\t0.3169295609348591\n",
            "  (183, 42)\t1.0\n"
          ],
          "name": "stdout"
        }
      ]
    },
    {
      "cell_type": "code",
      "metadata": {
        "id": "ttyX3gP66DJk",
        "colab": {
          "base_uri": "https://localhost:8080/"
        },
        "outputId": "9c88ebfe-49ba-4f5a-ea15-8ac4dd2716bc"
      },
      "source": [
        "# ngram (bigram) level tf-idf\n",
        "# this is generation of the bigrams (2,2)?\n",
        "tfidf_vectorization_bigram = TfidfVectorizer(analyzer='word', token_pattern=r'\\w{1,}', ngram_range=(2,2), max_features=50)\n",
        "tfidf_vectorization_bigram.fit(train_data_DF['text'])\n",
        "print((\"These are bigram features: \", tfidf_vectorization_bigram.get_feature_names()))\n",
        "\n",
        "# this is validation data - I think this is showing the freq of a bigram relative to frequency of that bigram in entire text\n",
        "# every row is a sentence/sample (row, column)\n",
        "xtrain_tfidf_bigram =  tfidf_vectorization_bigram.transform(train_data_x)\n",
        "xvalid_tfidf_bigram =  tfidf_vectorization_bigram.transform(valid_data_x)\n",
        "print(\"this is the result of tfidf: \",xvalid_tfidf_bigram)"
      ],
      "execution_count": null,
      "outputs": [
        {
          "output_type": "stream",
          "text": [
            "('These are bigram features: ', ['a history', 'according to', 'after the', 'and or', 'and the', 'as a', 'as the', 'at least', 'at the', 'based on', 'blood pressure', 'by the', 'chest pain', 'coronary artery', 'creatine kinase', 'defined as', 'defined by', 'diagnosis of', 'follow up', 'for the', 'from the', 'greater than', 'heart failure', 'history of', 'if the', 'in the', 'mg dl', 'mm hg', 'more than', 'myocardial infarction', 'of a', 'of the', 'on the', 'or a', 'or more', 'patients were', 'patients who', 'patients with', 'presence of', 'st segment', 'the first', 'the following', 'the presence', 'to be', 'to the', 'used to', 'was defined', 'were defined', 'with a', 'with the'])\n",
            "this is the result of tfidf:    (0, 46)\t0.3899045803690515\n",
            "  (0, 31)\t0.378543967413185\n",
            "  (0, 17)\t0.5641930523491882\n",
            "  (0, 16)\t0.6215827238777037\n",
            "  (1, 35)\t1.0\n",
            "  (2, 35)\t0.271952868794958\n",
            "  (2, 27)\t0.8222698260949762\n",
            "  (2, 25)\t0.3925523426861147\n",
            "  (2, 23)\t0.2521603995739959\n",
            "  (2, 15)\t0.17953206227929253\n",
            "  (3, 31)\t0.3462464383233374\n",
            "  (3, 25)\t0.7506158249329995\n",
            "  (3, 24)\t0.5627515324799708\n",
            "  (5, 46)\t0.2532152625724082\n",
            "  (5, 43)\t0.40367372060156115\n",
            "  (5, 27)\t0.7442276385131442\n",
            "  (5, 15)\t0.2437388284975442\n",
            "  (5, 10)\t0.3995574597625134\n",
            "  (6, 30)\t1.0\n",
            "  (7, 19)\t0.6960806807788755\n",
            "  (7, 4)\t0.7179635686066648\n",
            "  (8, 46)\t0.47308964137386433\n",
            "  (8, 39)\t0.7541956743497487\n",
            "  (8, 15)\t0.4553845364270467\n",
            "  (10, 30)\t1.0\n",
            "  :\t:\n",
            "  (171, 27)\t0.987609233278128\n",
            "  (171, 10)\t0.13255575850252535\n",
            "  (172, 48)\t0.2995764397921424\n",
            "  (172, 39)\t0.34204143200750753\n",
            "  (172, 34)\t0.6409454538198747\n",
            "  (172, 31)\t0.208303280831344\n",
            "  (172, 25)\t0.2257867831574038\n",
            "  (172, 21)\t0.33522090461211423\n",
            "  (172, 17)\t0.31046133063403997\n",
            "  (172, 5)\t0.28164040863778794\n",
            "  (174, 45)\t0.7632063327937565\n",
            "  (174, 44)\t0.6461548526348044\n",
            "  (175, 46)\t0.7204596461374191\n",
            "  (175, 15)\t0.693496862492935\n",
            "  (176, 27)\t1.0\n",
            "  (177, 35)\t0.757620797955396\n",
            "  (177, 31)\t0.5044561438644911\n",
            "  (177, 8)\t0.4141675088931975\n",
            "  (179, 29)\t0.6899644019875337\n",
            "  (179, 19)\t0.7238433007149994\n",
            "  (181, 37)\t1.0\n",
            "  (182, 37)\t0.18099625124791427\n",
            "  (182, 25)\t0.14259812335323394\n",
            "  (182, 18)\t0.9730910195096538\n",
            "  (183, 35)\t1.0\n"
          ],
          "name": "stdout"
        }
      ]
    },
    {
      "cell_type": "code",
      "metadata": {
        "id": "s5pKLzxyKzSU",
        "colab": {
          "base_uri": "https://localhost:8080/"
        },
        "outputId": "a3271499-1bdd-43a7-f29d-ea098f1fc9b3"
      },
      "source": [
        "# unigram level tf-idf\n",
        "tfidf_vectorization_unigram = TfidfVectorizer(analyzer='word', token_pattern=r'\\w{1,}', ngram_range=(1,1), max_features=50)\n",
        "tfidf_vectorization_unigram.fit(train_data_DF['text'])\n",
        "print((\"These are unigram features: \", tfidf_vectorization_unigram.get_feature_names()))\n",
        "\n",
        "# this is validation data - I think this is showing the freq of a unigram relative to frequency of that unigram in entire text\n",
        "# every row is a sentence/sample (row, column)\n",
        "xtrain_tfidf_unigram =  tfidf_vectorization_unigram.transform(train_data_x)\n",
        "xvalid_tfidf_unigram =  tfidf_vectorization_unigram.transform(valid_data_x)\n",
        "print(\"this is the result of tfidf: \",xvalid_tfidf_unigram)"
      ],
      "execution_count": null,
      "outputs": [
        {
          "output_type": "stream",
          "text": [
            "('These are unigram features: ', ['0', '1', '2', '3', '4', '5', 'a', 'after', 'all', 'an', 'and', 'as', 'at', 'blood', 'by', 'coronary', 'death', 'defined', 'disease', 'dl', 'for', 'from', 'gt', 'had', 'hg', 'history', 'if', 'in', 'included', 'lt', 'mg', 'mm', 'more', 'of', 'on', 'or', 'patients', 'study', 'than', 'that', 'the', 'this', 'to', 'two', 'used', 'was', 'we', 'were', 'who', 'with'])\n",
            "this is the result of tfidf:    (0, 49)\t0.2027118771913233\n",
            "  (0, 45)\t0.16600349057794125\n",
            "  (0, 42)\t0.18319680272353897\n",
            "  (0, 40)\t0.12607869340222655\n",
            "  (0, 34)\t0.2626552364823076\n",
            "  (0, 33)\t0.2500024853951218\n",
            "  (0, 29)\t0.7194015138444779\n",
            "  (0, 27)\t0.18152293742714704\n",
            "  (0, 17)\t0.22539875414405522\n",
            "  (0, 14)\t0.24778940078424438\n",
            "  (0, 10)\t0.14553578269719075\n",
            "  (0, 1)\t0.257935747926023\n",
            "  (1, 47)\t0.33510913789428054\n",
            "  (1, 40)\t0.22679830730848036\n",
            "  (1, 36)\t0.4007047052028473\n",
            "  (1, 35)\t0.3363714353921311\n",
            "  (1, 33)\t0.22486012101044422\n",
            "  (1, 21)\t0.48768592517630316\n",
            "  (1, 10)\t0.5235978939476348\n",
            "  (2, 47)\t0.14724067040424585\n",
            "  (2, 43)\t0.24972474498570596\n",
            "  (2, 40)\t0.14947638413183403\n",
            "  (2, 38)\t0.11716286337395022\n",
            "  (2, 37)\t0.11716286337395022\n",
            "  (2, 36)\t0.08803106623552612\n",
            "  :\t:\n",
            "  (182, 33)\t0.042065741734571074\n",
            "  (182, 27)\t0.09162985311097312\n",
            "  (182, 21)\t0.1824678389735355\n",
            "  (182, 8)\t0.053408190074543234\n",
            "  (182, 5)\t0.2187952338866561\n",
            "  (182, 4)\t0.4107051037465286\n",
            "  (182, 3)\t0.38289165930164815\n",
            "  (182, 2)\t0.5827826601994074\n",
            "  (182, 1)\t0.3472048220391403\n",
            "  (182, 0)\t0.34026001662601674\n",
            "  (183, 47)\t0.4977896287665311\n",
            "  (183, 43)\t0.4221333268823074\n",
            "  (183, 42)\t0.2447628926518908\n",
            "  (183, 36)\t0.2976144543555463\n",
            "  (183, 35)\t0.2498323576069394\n",
            "  (183, 33)\t0.5010294714680326\n",
            "  (183, 20)\t0.2725252022661086\n",
            "  (183, 10)\t0.19444531033152343\n",
            "  (184, 47)\t0.22535254793727783\n",
            "  (184, 40)\t0.15251621230320409\n",
            "  (184, 35)\t0.2262014115617762\n",
            "  (184, 26)\t0.7826601725445991\n",
            "  (184, 23)\t0.40127841552010685\n",
            "  (184, 11)\t0.23930554151440728\n",
            "  (184, 6)\t0.20961751091201244\n"
          ],
          "name": "stdout"
        }
      ]
    },
    {
      "cell_type": "code",
      "metadata": {
        "id": "6Uf7Aednt8DS"
      },
      "source": [
        "# # characters level ngram tf-idf\n",
        "# tfidf_vectorization_ngram_chars = TfidfVectorizer(analyzer='char', token_pattern=r'\\w{1,}', ngram_range=(2,2), max_features=50)\n",
        "# tfidf_vectorization_ngram_chars.fit(train_data_DF['text'])\n",
        "# print((tfidf_vectorization_ngram_chars.get_feature_names()))\n",
        "\n",
        "# # character level ngram tfidf results using both training and validation data\n",
        "# xtrain_tfidf_ngram_vectorization_chars =  tfidf_vectorization_ngram_chars.transform(train_data_x)\n",
        "# xvalid_tfidf_ngram_vectorization_chars =  tfidf_vectorization_ngram_chars.transform(valid_data_x)\n",
        "# print(\"this is the result of tfid:\", xtrain_tfidf_ngram_vectorization_chars)\n",
        "# print(\"this is the result of tfid:\", xvalid_tfidf_ngram_vectorization_chars)"
      ],
      "execution_count": null,
      "outputs": []
    },
    {
      "cell_type": "code",
      "metadata": {
        "id": "FH5HCrU1e66J"
      },
      "source": [
        "# Next step is to implement models based on different feature selection methods"
      ],
      "execution_count": null,
      "outputs": []
    },
    {
      "cell_type": "code",
      "metadata": {
        "id": "CkMYOxAp6IXW"
      },
      "source": [
        "# fit the training data onto the model (classifier) and predict the label\n",
        "def train_validate_model(classifier, feature_vector_train, label, feature_vector_valid):\n",
        "    # fit the training data on the classifier\n",
        "    classifier.fit(feature_vector_train, label)\n",
        "\n",
        "    #prediction of labels on validation data\n",
        "    predictions = classifier.predict(feature_vector_valid)\n",
        "    print(predictions)\n",
        "    precision = metrics.precision_score(valid_data_y,predictions)\n",
        "    print(\"precision\")\n",
        "    print(precision)\n",
        "    recall = metrics.recall_score(valid_data_y,predictions)\n",
        "    print(\"recall\")\n",
        "    print(recall)\n",
        "    print(\"fscore\")\n",
        "    f1 = metrics.f1_score(valid_data_y, predictions)\n",
        "    print(f1)\n",
        "    print(\"AUC\")\n",
        "    auc = metrics.roc_auc_score(valid_data_y, predictions)\n",
        "    print(auc)\n",
        "    # return metrics.accuracy_score(predictions, valid_data_y)\n",
        "    return precision, recall, f1, auc"
      ],
      "execution_count": null,
      "outputs": []
    },
    {
      "cell_type": "code",
      "metadata": {
        "id": "Miz68YtOCDtJ"
      },
      "source": [
        "# precision recall, fscore, and auc on 0-1 scale with closer to 1 better"
      ],
      "execution_count": null,
      "outputs": []
    },
    {
      "cell_type": "code",
      "metadata": {
        "id": "wwiHar0O6LVT",
        "colab": {
          "base_uri": "https://localhost:8080/"
        },
        "outputId": "074f6e55-d2e7-486d-a40d-ea43770ed6c5"
      },
      "source": [
        "# Naive Bayes Count Vector\n",
        "print(\"results for naive bayes , features Count Vectors: \")\n",
        "[prec_NBcv, rec_NBcv, f1_NBcv, auc_NBcv] = train_validate_model(naive_bayes.MultinomialNB(), xtrain_count_vector, train_data_y, xvalid_count_vector)\n",
        "# Naive Bayes Word Level\n",
        "print(\"results for naive bayes , features WordLevel TF-IDF: \")\n",
        "[prec_NBw, rec_NBw, f1_NBw, auc_NBw] = train_validate_model(naive_bayes.MultinomialNB(), xtrain_tfidf, train_data_y, xvalid_tfidf)\n",
        "# Naive Bayes Bigram Level\n",
        "print(\"results for naive bayes , features Bi-Gram\")\n",
        "[prec_NBbi, rec_NBbi, f1_NBbi, auc_NBbi] = train_validate_model(naive_bayes.MultinomialNB(), xtrain_tfidf_bigram, train_data_y, xvalid_tfidf_bigram)\n",
        "# Naive Bayes Unigram Level\n",
        "print(\"results for naive bayes , features Uni-Gram\")\n",
        "[prec_NBun, rec_NBun, f1_NBun, auc_NBun] = train_validate_model(naive_bayes.MultinomialNB(), xtrain_tfidf_unigram, train_data_y, xvalid_tfidf_unigram)\n",
        "# # Naive Bayes Character Level\n",
        "# print(\"results for naive bayes , features CharLevel\")\n",
        "# train_validate_model(naive_bayes.MultinomialNB(), xtrain_tfidf_ngram_vectorization_chars, train_data_y, xvalid_tfidf_ngram_vectorization_chars)"
      ],
      "execution_count": null,
      "outputs": [
        {
          "output_type": "stream",
          "text": [
            "results for naive bayes , features Count Vectors: \n",
            "[1 0 1 0 0 1 1 0 1 0 0 1 1 0 1 1 1 0 0 1 1 0 0 1 0 0 1 0 1 0 1 1 0 0 0 0 0\n",
            " 1 0 0 0 1 0 0 1 0 1 0 0 0 0 0 0 1 1 0 0 0 1 1 0 0 0 0 1 1 0 1 0 0 1 1 0 1\n",
            " 0 0 0 0 1 0 1 1 0 0 0 1 1 1 1 0 1 0 1 0 0 1 0 0 0 1 0 1 0 0 1 0 1 0 0 0 1\n",
            " 1 1 1 1 1 1 0 0 0 0 0 0 0 0 0 1 1 0 1 1 0 0 0 0 0 0 0 1 1 0 1 0 1 1 1 0 0\n",
            " 0 1 0 0 1 0 1 1 0 0 1 0 0 0 0 1 0 1 0 0 1 0 1 1 1 1 0 0 1 0 0 0 0 0 0 0 0]\n",
            "precision\n",
            "0.7866666666666666\n",
            "recall\n",
            "0.8939393939393939\n",
            "fscore\n",
            "0.8368794326241135\n",
            "AUC\n",
            "0.8797428062133945\n",
            "results for naive bayes , features WordLevel TF-IDF: \n",
            "[1 0 1 0 0 1 0 0 1 1 0 1 1 0 1 1 1 0 0 0 1 0 0 0 0 0 1 0 1 0 0 1 0 0 0 0 0\n",
            " 1 0 0 0 0 0 0 1 0 0 0 0 0 0 1 0 1 0 0 0 0 1 0 0 0 0 0 1 1 0 0 0 0 1 1 1 1\n",
            " 0 0 0 0 1 0 1 1 0 0 0 0 1 0 0 0 0 1 0 0 0 1 0 0 0 1 0 1 0 0 1 0 0 0 0 0 1\n",
            " 0 1 1 0 0 0 0 0 0 0 0 1 0 0 0 1 1 0 1 1 0 0 0 0 0 1 0 0 0 0 0 0 0 1 0 0 0\n",
            " 0 1 0 0 1 0 1 1 0 0 1 0 0 0 0 1 0 1 0 0 0 0 1 1 0 0 0 0 1 0 0 0 0 0 0 0 0]\n",
            "precision\n",
            "0.8148148148148148\n",
            "recall\n",
            "0.6666666666666666\n",
            "fscore\n",
            "0.7333333333333333\n",
            "AUC\n",
            "0.7913165266106442\n",
            "results for naive bayes , features Bi-Gram\n",
            "[1 0 1 0 0 1 0 0 1 0 0 1 0 0 0 1 1 0 0 1 1 0 0 0 0 0 1 0 1 0 0 1 0 0 0 0 0\n",
            " 1 0 0 0 0 0 0 1 0 1 0 0 0 0 1 0 0 0 0 0 0 0 0 1 0 0 0 1 1 0 0 0 0 1 1 0 1\n",
            " 0 0 0 0 1 0 1 1 0 0 0 0 1 0 1 0 0 0 0 0 0 1 0 0 0 1 0 1 0 0 1 0 0 0 0 0 1\n",
            " 0 1 1 0 0 0 0 0 0 0 0 0 0 0 0 0 0 0 1 0 0 0 0 0 0 0 0 0 0 0 0 0 0 0 0 0 1\n",
            " 0 1 0 0 1 0 1 1 0 0 0 0 0 0 0 1 0 0 0 0 0 0 0 1 1 0 0 1 1 0 0 0 0 0 0 0 0]\n",
            "precision\n",
            "0.9111111111111111\n",
            "recall\n",
            "0.6212121212121212\n",
            "fscore\n",
            "0.7387387387387386\n",
            "AUC\n",
            "0.7937993379169849\n",
            "results for naive bayes , features Uni-Gram\n",
            "[1 0 1 0 0 1 0 0 1 0 0 0 1 0 0 1 1 0 0 0 1 0 0 1 0 0 1 0 1 0 0 1 0 0 0 0 0\n",
            " 1 0 0 0 0 0 0 1 0 0 0 0 0 0 1 0 1 0 0 0 0 0 0 0 0 0 0 1 1 0 0 0 0 1 1 0 1\n",
            " 0 0 0 0 1 0 1 0 0 0 0 0 1 0 0 0 0 1 0 0 0 0 0 0 0 1 0 1 0 0 1 0 0 0 0 1 1\n",
            " 0 1 1 0 0 0 0 0 0 0 0 0 0 0 0 1 0 0 1 1 0 0 0 0 0 0 0 0 0 0 1 0 0 1 0 0 1\n",
            " 0 1 0 0 0 0 1 1 0 0 0 0 0 0 0 1 0 0 0 0 0 0 0 1 1 1 0 1 1 0 0 0 0 0 0 0 0]\n",
            "precision\n",
            "0.9148936170212766\n",
            "recall\n",
            "0.6515151515151515\n",
            "fscore\n",
            "0.7610619469026548\n",
            "AUC\n",
            "0.8089508530685001\n"
          ],
          "name": "stdout"
        }
      ]
    },
    {
      "cell_type": "code",
      "metadata": {
        "id": "1VcqMFrz_zui"
      },
      "source": [
        "# overall we see that results change based on the feature selection method"
      ],
      "execution_count": null,
      "outputs": []
    },
    {
      "cell_type": "code",
      "metadata": {
        "id": "-bk8Q4ucAsXG",
        "colab": {
          "base_uri": "https://localhost:8080/"
        },
        "outputId": "d1dc2a49-943a-4890-a055-7a5b881b193a"
      },
      "source": [
        "# Log Reg Count Vector\n",
        "print(\"results for Log Reg , features Count Vectors: \")\n",
        "[prec_LRcv, rec_LRcv, f1_LRcv, auc_LRcv] = train_validate_model(linear_model.LogisticRegression(), xtrain_count_vector, train_data_y, xvalid_count_vector)\n",
        "# Log Reg Word Level\n",
        "print(\"results for Log Reg , features WordLevel TF-IDF: \")\n",
        "[prec_LRw, rec_LRw, f1_LRw, auc_LRw] = train_validate_model(linear_model.LogisticRegression(), xtrain_tfidf, train_data_y, xvalid_tfidf)\n",
        "# Log Reg Bigram Level\n",
        "print(\"results for Log Reg , features BiGram\")\n",
        "[prec_LRbi, rec_LRbi, f1_LRbi, auc_LRbi] = train_validate_model(linear_model.LogisticRegression(), xtrain_tfidf_bigram, train_data_y, xvalid_tfidf_bigram)\n",
        "# Log Reg Unigram Level\n",
        "print(\"results for Log Reg , features UniGram\")\n",
        "[prec_LRun, rec_LRun, f1_LRun, auc_LRun] = train_validate_model(linear_model.LogisticRegression(), xtrain_tfidf_unigram, train_data_y, xvalid_tfidf_unigram)\n",
        "# # Log Reg Character Level\n",
        "# print(\"results for Log Reg , features CharLevel\")\n",
        "# train_validate_model(linear_model.LogisticRegression(), xtrain_tfidf_ngram_vectorization_chars, train_data_y, xvalid_tfidf_ngram_vectorization_chars)"
      ],
      "execution_count": null,
      "outputs": [
        {
          "output_type": "stream",
          "text": [
            "results for Log Reg , features Count Vectors: \n",
            "[1 0 1 0 0 1 0 0 1 0 0 1 1 1 0 1 1 0 0 1 1 0 0 1 0 0 1 0 1 0 0 1 0 0 0 0 0\n",
            " 0 0 0 0 0 0 0 1 0 0 0 0 0 0 0 0 1 0 0 0 0 1 1 0 0 0 0 1 1 0 0 0 0 1 1 0 1\n",
            " 0 0 0 0 1 0 1 1 0 0 0 0 1 0 1 0 0 0 1 0 0 1 0 0 0 1 0 1 0 0 1 0 0 0 0 0 1\n",
            " 1 1 1 0 0 0 0 0 0 0 0 0 0 0 0 0 1 0 1 0 0 0 0 0 0 0 0 1 0 0 1 0 0 1 0 0 0\n",
            " 0 1 0 0 0 0 1 1 0 0 0 0 0 0 0 0 0 1 0 0 0 0 1 1 1 0 0 0 1 0 0 0 0 0 0 0 0]\n",
            "precision\n",
            "0.9803921568627451\n",
            "recall\n",
            "0.7575757575757576\n",
            "fscore\n",
            "0.8547008547008548\n",
            "AUC\n",
            "0.8745861981156099\n",
            "results for Log Reg , features WordLevel TF-IDF: \n",
            "[1 0 1 0 0 1 0 0 1 0 0 1 1 0 0 1 1 0 0 1 1 0 0 1 0 0 1 0 1 0 0 1 0 0 0 0 0\n",
            " 1 0 0 0 0 0 0 1 0 0 0 0 0 0 1 0 1 0 0 0 0 0 0 1 0 0 0 1 1 0 0 0 0 1 1 0 1\n",
            " 0 0 0 0 1 0 1 1 0 0 0 0 1 0 1 0 0 1 0 0 0 0 0 0 0 0 0 1 0 0 1 0 0 0 0 0 1\n",
            " 0 1 1 0 1 0 0 0 0 0 0 1 0 0 0 0 0 0 1 1 0 0 0 0 0 1 0 0 0 0 0 0 0 1 0 0 0\n",
            " 0 1 0 0 1 0 1 1 0 0 0 0 0 0 0 1 0 1 0 0 0 0 1 1 0 0 0 1 1 0 0 0 0 0 0 0 0]\n",
            "precision\n",
            "0.8627450980392157\n",
            "recall\n",
            "0.6666666666666666\n",
            "fscore\n",
            "0.7521367521367521\n",
            "AUC\n",
            "0.8039215686274509\n",
            "results for Log Reg , features BiGram\n",
            "[1 0 1 0 0 1 0 0 1 0 0 0 1 1 0 1 1 0 0 1 1 0 0 0 0 0 1 0 1 0 0 1 0 0 0 0 0\n",
            " 1 0 0 0 0 0 0 1 0 1 0 0 0 0 1 0 0 0 0 0 0 0 0 1 0 0 0 1 1 0 1 0 0 0 0 0 1\n",
            " 0 0 0 0 1 0 1 1 0 0 0 0 1 0 1 0 0 0 1 0 0 0 0 0 0 0 0 1 0 0 1 0 0 0 0 0 1\n",
            " 0 1 1 0 0 0 0 0 0 0 0 0 0 0 0 0 0 0 1 0 0 0 0 0 0 0 0 1 0 0 0 0 0 0 1 0 1\n",
            " 0 1 1 0 1 0 1 1 0 0 0 0 0 0 0 1 0 0 0 0 0 0 0 1 1 0 0 1 1 0 0 0 0 0 0 0 0]\n",
            "precision\n",
            "0.8936170212765957\n",
            "recall\n",
            "0.6363636363636364\n",
            "fscore\n",
            "0.7433628318584069\n",
            "AUC\n",
            "0.7971734148204737\n",
            "results for Log Reg , features UniGram\n",
            "[1 0 1 0 0 1 0 0 1 0 0 1 1 1 0 1 1 0 0 1 1 0 0 1 0 0 1 0 1 0 0 1 0 0 0 0 0\n",
            " 1 0 0 0 0 0 0 1 0 1 0 0 0 0 1 0 1 0 1 0 0 0 0 0 0 0 0 1 1 1 1 0 0 1 1 0 1\n",
            " 0 0 0 0 1 0 1 0 0 0 0 0 1 0 0 0 0 1 0 0 0 0 0 0 0 0 0 1 0 0 0 0 0 0 0 1 1\n",
            " 0 1 1 0 0 0 0 0 0 1 0 0 0 0 0 1 0 0 1 1 0 0 0 0 0 0 0 0 0 0 1 0 0 1 0 0 1\n",
            " 0 1 0 0 1 0 1 1 0 0 0 0 0 0 0 1 0 0 0 0 0 0 1 1 1 0 0 1 1 0 0 0 0 0 0 0 0]\n",
            "precision\n",
            "0.8888888888888888\n",
            "recall\n",
            "0.7272727272727273\n",
            "fscore\n",
            "0.7999999999999999\n",
            "AUC\n",
            "0.8384262796027502\n"
          ],
          "name": "stdout"
        }
      ]
    },
    {
      "cell_type": "code",
      "metadata": {
        "id": "sr44s3NZBfsk",
        "colab": {
          "base_uri": "https://localhost:8080/"
        },
        "outputId": "2acc15b4-e288-4cca-ee15-0cdf32d0c44a"
      },
      "source": [
        "# SVM Count Vector\n",
        "print(\"results for SVM , features Count Vectors: \")\n",
        "[prec_SVMcv, rec_SVMcv, f1_SVMcv, auc_SVMcv] = train_validate_model(svm.SVC(), xtrain_count_vector, train_data_y, xvalid_count_vector)\n",
        "# SVM Word Level\n",
        "print(\"results for SVM , features WordLevel TF-IDF: \")\n",
        "[prec_SVMw, rec_SVMw, f1_SVMw, auc_SVMw] = train_validate_model(svm.SVC(), xtrain_tfidf, train_data_y, xvalid_tfidf)\n",
        "# SVM Bigram Level\n",
        "print(\"results for SVM , features BiGram\")\n",
        "[prec_SVMbi, rec_SVMbi, f1_SVMbi, auc_SVMbi] = train_validate_model(svm.SVC(), xtrain_tfidf_bigram, train_data_y, xvalid_tfidf_bigram)\n",
        "# SVM Ngram Level\n",
        "print(\"results for SVM , features UniGram\")\n",
        "[prec_SVMun, rec_SVMun, f1_SVMun, auc_SVMun] = train_validate_model(svm.SVC(), xtrain_tfidf_unigram, train_data_y, xvalid_tfidf_unigram)\n",
        "# # SVM Character Level\n",
        "# print(\"results for SVM , features CharLevel\")\n",
        "# train_validate_model(svm.SVC(), xtrain_tfidf_ngram_vectorization_chars, train_data_y, xvalid_tfidf_ngram_vectorization_chars)"
      ],
      "execution_count": null,
      "outputs": [
        {
          "output_type": "stream",
          "text": [
            "results for SVM , features Count Vectors: \n",
            "[1 0 1 0 0 1 0 0 1 0 0 1 1 1 0 1 1 0 0 1 1 0 0 1 0 0 1 0 1 0 0 1 1 0 0 0 0\n",
            " 0 0 0 0 0 0 0 1 0 1 0 0 0 0 0 0 1 0 0 0 0 0 1 0 0 0 0 1 1 0 0 0 0 1 1 0 1\n",
            " 0 0 0 0 1 0 1 1 0 0 0 0 1 0 1 0 0 1 1 0 0 0 1 0 0 1 0 1 0 0 1 0 0 0 0 0 1\n",
            " 1 1 1 0 1 0 0 0 0 0 0 0 0 0 0 0 1 0 1 0 0 0 0 0 1 0 0 1 0 0 1 0 0 1 0 0 0\n",
            " 0 1 0 0 1 0 1 1 0 0 0 0 0 0 0 0 0 1 0 0 0 0 1 1 1 0 0 0 1 0 0 0 0 0 1 0 0]\n",
            "precision\n",
            "0.9122807017543859\n",
            "recall\n",
            "0.7878787878787878\n",
            "fscore\n",
            "0.8455284552845528\n",
            "AUC\n",
            "0.8729309905780493\n",
            "results for SVM , features WordLevel TF-IDF: \n",
            "[1 0 1 0 0 1 0 0 1 0 0 1 1 0 0 1 1 0 0 1 1 0 0 1 0 0 1 0 1 0 0 1 0 0 0 0 0\n",
            " 1 0 0 0 0 0 0 1 0 1 0 0 0 0 1 0 1 0 0 0 0 1 0 1 0 0 0 1 1 0 1 0 0 1 1 0 1\n",
            " 0 0 0 0 1 0 1 1 0 0 0 0 1 0 1 0 0 1 0 0 0 0 0 0 0 0 0 1 0 0 1 0 0 0 0 0 1\n",
            " 1 1 1 0 0 0 0 0 0 0 0 1 0 0 0 0 1 0 1 1 0 0 0 0 0 1 0 1 1 0 0 0 0 1 0 0 1\n",
            " 0 1 0 0 1 0 1 1 0 0 1 0 0 0 0 1 0 1 0 0 0 0 1 1 0 0 0 1 1 0 0 0 0 0 0 0 0]\n",
            "precision\n",
            "0.847457627118644\n",
            "recall\n",
            "0.7575757575757576\n",
            "fscore\n",
            "0.7999999999999999\n",
            "AUC\n",
            "0.8409727527374586\n",
            "results for SVM , features BiGram\n",
            "[1 0 1 0 0 1 0 0 1 0 0 1 1 0 0 1 1 0 0 1 1 0 0 0 0 0 1 0 1 0 0 1 0 0 0 0 0\n",
            " 1 0 0 0 0 0 0 1 0 1 0 0 0 0 1 0 1 0 0 0 0 0 0 0 0 0 0 0 1 0 1 0 0 0 1 0 1\n",
            " 0 0 0 0 1 0 1 1 0 0 0 0 1 0 1 0 0 0 1 0 0 1 0 0 0 1 0 1 0 0 1 0 0 0 0 0 1\n",
            " 0 1 1 0 0 0 0 0 0 0 0 0 0 0 0 1 0 0 1 0 0 0 0 0 0 0 0 1 0 0 0 0 0 0 1 0 1\n",
            " 0 1 0 0 1 0 1 1 0 0 0 0 0 0 0 1 0 1 0 0 0 0 1 1 1 0 0 1 1 0 0 0 0 0 0 0 0]\n",
            "precision\n",
            "0.9411764705882353\n",
            "recall\n",
            "0.7272727272727273\n",
            "fscore\n",
            "0.8205128205128205\n",
            "AUC\n",
            "0.8510313216195569\n",
            "results for SVM , features UniGram\n",
            "[1 0 1 0 0 1 0 0 1 0 0 1 1 1 0 1 1 0 0 1 1 0 0 1 0 0 1 0 1 0 0 1 0 0 0 0 0\n",
            " 1 0 0 0 0 0 0 1 0 1 0 0 0 0 1 0 1 0 1 0 0 0 0 0 0 0 0 1 1 1 1 0 0 1 1 0 1\n",
            " 0 0 0 0 1 0 1 0 0 0 0 0 1 0 0 0 0 1 0 0 0 0 0 0 0 1 0 1 0 0 1 0 0 0 0 1 1\n",
            " 0 1 1 0 0 0 0 0 0 0 0 0 0 0 0 1 0 0 1 1 0 0 0 0 0 0 0 1 1 0 1 0 0 1 0 0 1\n",
            " 0 1 0 0 1 0 1 1 0 0 0 0 0 0 0 1 0 1 0 0 0 0 1 1 1 0 0 1 1 0 0 0 0 0 0 0 0]\n",
            "precision\n",
            "0.896551724137931\n",
            "recall\n",
            "0.7878787878787878\n",
            "fscore\n",
            "0.8387096774193549\n",
            "AUC\n",
            "0.8687293099057805\n"
          ],
          "name": "stdout"
        }
      ]
    },
    {
      "cell_type": "code",
      "metadata": {
        "id": "QVQNsmeINQqb"
      },
      "source": [
        "# # doesn't work\n",
        "# # LDA Count Vector\n",
        "# print(\"results for LDA , features Count Vectors: \")\n",
        "# train_validate_model(LinearDiscriminantAnalysis(), xtrain_count_vector, train_data_y, xvalid_count_vector)\n",
        "# # LDA Word Level\n",
        "# print(\"results for LDA , features WordLevel TF-IDF: \")\n",
        "# train_validate_model(LinearDiscriminantAnalysis(), xtrain_tfidf, train_data_y, xvalid_tfidf)\n",
        "# # LDA Ngram Level\n",
        "# print(\"results for LDA , features N-Gram\")\n",
        "# train_validate_model(LinearDiscriminantAnalysis(), xtrain_tfidf_ngram, train_data_y, xvalid_tfidf_ngram)\n",
        "# # LDA Character Level\n",
        "# print(\"results for LDA , features CharLevel\")\n",
        "# train_validate_model(LinearDiscriminantAnalysis(), xtrain_tfidf_ngram_vectorization_chars, train_data_y, xvalid_tfidf_ngram_vectorization_chars)"
      ],
      "execution_count": null,
      "outputs": []
    },
    {
      "cell_type": "code",
      "metadata": {
        "id": "QdD0fuBg6RCo"
      },
      "source": [
        "#linear_model.LogisticRegression()\n",
        "#svm.SVC()\n",
        "#LinearDiscriminantAnalysis() ??"
      ],
      "execution_count": null,
      "outputs": []
    },
    {
      "cell_type": "code",
      "metadata": {
        "colab": {
          "base_uri": "https://localhost:8080/",
          "height": 426
        },
        "id": "wa7DE6-yvRHX",
        "outputId": "9bad6e1a-7055-433e-beff-8313165963f8"
      },
      "source": [
        "#df precision\n",
        "df_prec = pd.DataFrame()\n",
        "df_prec['Model'] = ['Log Reg','Log Reg','Log Reg','Log Reg','Naive Bayes','Naive Bayes','Naive Bayes','Naive Bayes','SVM','SVM','SVM','SVM']\n",
        "df_prec['Precision'] = [prec_LRcv, prec_LRw, prec_LRbi, prec_LRun, prec_NBcv, prec_NBw, prec_NBbi, prec_NBun, prec_SVMcv, prec_SVMw, prec_SVMbi, prec_SVMun]\n",
        "df_prec['Feature'] = ['Count Vector','Word Level','Bigram','Unigram','Count Vector','Word Level','Bigram','Unigram','Count Vector','Word Level','Bigram','Unigram']\n",
        "df_prec"
      ],
      "execution_count": null,
      "outputs": [
        {
          "output_type": "execute_result",
          "data": {
            "text/html": [
              "<div>\n",
              "<style scoped>\n",
              "    .dataframe tbody tr th:only-of-type {\n",
              "        vertical-align: middle;\n",
              "    }\n",
              "\n",
              "    .dataframe tbody tr th {\n",
              "        vertical-align: top;\n",
              "    }\n",
              "\n",
              "    .dataframe thead th {\n",
              "        text-align: right;\n",
              "    }\n",
              "</style>\n",
              "<table border=\"1\" class=\"dataframe\">\n",
              "  <thead>\n",
              "    <tr style=\"text-align: right;\">\n",
              "      <th></th>\n",
              "      <th>Model</th>\n",
              "      <th>Precision</th>\n",
              "      <th>Feature</th>\n",
              "    </tr>\n",
              "  </thead>\n",
              "  <tbody>\n",
              "    <tr>\n",
              "      <th>0</th>\n",
              "      <td>Log Reg</td>\n",
              "      <td>0.980392</td>\n",
              "      <td>Count Vector</td>\n",
              "    </tr>\n",
              "    <tr>\n",
              "      <th>1</th>\n",
              "      <td>Log Reg</td>\n",
              "      <td>0.862745</td>\n",
              "      <td>Word Level</td>\n",
              "    </tr>\n",
              "    <tr>\n",
              "      <th>2</th>\n",
              "      <td>Log Reg</td>\n",
              "      <td>0.893617</td>\n",
              "      <td>Bigram</td>\n",
              "    </tr>\n",
              "    <tr>\n",
              "      <th>3</th>\n",
              "      <td>Log Reg</td>\n",
              "      <td>0.888889</td>\n",
              "      <td>Unigram</td>\n",
              "    </tr>\n",
              "    <tr>\n",
              "      <th>4</th>\n",
              "      <td>Naive Bayes</td>\n",
              "      <td>0.786667</td>\n",
              "      <td>Count Vector</td>\n",
              "    </tr>\n",
              "    <tr>\n",
              "      <th>5</th>\n",
              "      <td>Naive Bayes</td>\n",
              "      <td>0.814815</td>\n",
              "      <td>Word Level</td>\n",
              "    </tr>\n",
              "    <tr>\n",
              "      <th>6</th>\n",
              "      <td>Naive Bayes</td>\n",
              "      <td>0.911111</td>\n",
              "      <td>Bigram</td>\n",
              "    </tr>\n",
              "    <tr>\n",
              "      <th>7</th>\n",
              "      <td>Naive Bayes</td>\n",
              "      <td>0.914894</td>\n",
              "      <td>Unigram</td>\n",
              "    </tr>\n",
              "    <tr>\n",
              "      <th>8</th>\n",
              "      <td>SVM</td>\n",
              "      <td>0.912281</td>\n",
              "      <td>Count Vector</td>\n",
              "    </tr>\n",
              "    <tr>\n",
              "      <th>9</th>\n",
              "      <td>SVM</td>\n",
              "      <td>0.847458</td>\n",
              "      <td>Word Level</td>\n",
              "    </tr>\n",
              "    <tr>\n",
              "      <th>10</th>\n",
              "      <td>SVM</td>\n",
              "      <td>0.941176</td>\n",
              "      <td>Bigram</td>\n",
              "    </tr>\n",
              "    <tr>\n",
              "      <th>11</th>\n",
              "      <td>SVM</td>\n",
              "      <td>0.896552</td>\n",
              "      <td>Unigram</td>\n",
              "    </tr>\n",
              "  </tbody>\n",
              "</table>\n",
              "</div>"
            ],
            "text/plain": [
              "          Model  Precision       Feature\n",
              "0       Log Reg   0.980392  Count Vector\n",
              "1       Log Reg   0.862745    Word Level\n",
              "2       Log Reg   0.893617        Bigram\n",
              "3       Log Reg   0.888889       Unigram\n",
              "4   Naive Bayes   0.786667  Count Vector\n",
              "5   Naive Bayes   0.814815    Word Level\n",
              "6   Naive Bayes   0.911111        Bigram\n",
              "7   Naive Bayes   0.914894       Unigram\n",
              "8           SVM   0.912281  Count Vector\n",
              "9           SVM   0.847458    Word Level\n",
              "10          SVM   0.941176        Bigram\n",
              "11          SVM   0.896552       Unigram"
            ]
          },
          "metadata": {
            "tags": []
          },
          "execution_count": 15
        }
      ]
    },
    {
      "cell_type": "code",
      "metadata": {
        "colab": {
          "base_uri": "https://localhost:8080/",
          "height": 279
        },
        "id": "T6CQVy9YN6GS",
        "outputId": "a1ff6014-82ac-493c-a717-09121c8b0d0a"
      },
      "source": [
        "# Plots\n",
        "# Precision\n",
        "plt_prec = sns.barplot(x = 'Model', y = 'Precision', hue = 'Feature', data = df_prec,\n",
        "            palette = 'hls',\n",
        "            order = ['Log Reg', 'Naive Bayes', 'SVM'],\n",
        "            )\n",
        "plt.legend(bbox_to_anchor=(1.05, 1.0), loc='upper left')\n",
        "# plt.show(plt_prec)\n",
        "plt.savefig('plt_prec.png',\n",
        "            dpi=300,\n",
        "            format='png',\n",
        "            bbox_inches='tight')\n",
        "# files.download('plt_prec.png')"
      ],
      "execution_count": null,
      "outputs": [
        {
          "output_type": "display_data",
          "data": {
            "image/png": "[encoded data removed]",
            "text/plain": [
              "<Figure size 432x288 with 1 Axes>"
            ]
          },
          "metadata": {
            "tags": [],
            "needs_background": "light"
          }
        }
      ]
    },
    {
      "cell_type": "code",
      "metadata": {
        "colab": {
          "base_uri": "https://localhost:8080/",
          "height": 426
        },
        "id": "LJlabb2VADaq",
        "outputId": "3ead4d5d-3ae4-41bc-d0d5-da3f02a8a97d"
      },
      "source": [
        "#df recall\n",
        "df_rec = pd.DataFrame()\n",
        "df_rec['Model'] = ['Log Reg','Log Reg','Log Reg','Log Reg','Naive Bayes','Naive Bayes','Naive Bayes','Naive Bayes','SVM','SVM','SVM','SVM']\n",
        "df_rec['Recall'] = [rec_LRcv, rec_LRw, rec_LRbi, rec_LRun, rec_NBcv, rec_NBw, rec_NBbi, rec_NBun, rec_SVMcv, rec_SVMw, rec_SVMbi, rec_SVMun]\n",
        "df_rec['Feature'] = ['Count Vector','Word Level','Bigram','Unigram','Count Vector','Word Level','Bigram','Unigram','Count Vector','Word Level','Bigram','Unigram']\n",
        "df_rec"
      ],
      "execution_count": null,
      "outputs": [
        {
          "output_type": "execute_result",
          "data": {
            "text/html": [
              "<div>\n",
              "<style scoped>\n",
              "    .dataframe tbody tr th:only-of-type {\n",
              "        vertical-align: middle;\n",
              "    }\n",
              "\n",
              "    .dataframe tbody tr th {\n",
              "        vertical-align: top;\n",
              "    }\n",
              "\n",
              "    .dataframe thead th {\n",
              "        text-align: right;\n",
              "    }\n",
              "</style>\n",
              "<table border=\"1\" class=\"dataframe\">\n",
              "  <thead>\n",
              "    <tr style=\"text-align: right;\">\n",
              "      <th></th>\n",
              "      <th>Model</th>\n",
              "      <th>Recall</th>\n",
              "      <th>Feature</th>\n",
              "    </tr>\n",
              "  </thead>\n",
              "  <tbody>\n",
              "    <tr>\n",
              "      <th>0</th>\n",
              "      <td>Log Reg</td>\n",
              "      <td>0.757576</td>\n",
              "      <td>Count Vector</td>\n",
              "    </tr>\n",
              "    <tr>\n",
              "      <th>1</th>\n",
              "      <td>Log Reg</td>\n",
              "      <td>0.666667</td>\n",
              "      <td>Word Level</td>\n",
              "    </tr>\n",
              "    <tr>\n",
              "      <th>2</th>\n",
              "      <td>Log Reg</td>\n",
              "      <td>0.636364</td>\n",
              "      <td>Bigram</td>\n",
              "    </tr>\n",
              "    <tr>\n",
              "      <th>3</th>\n",
              "      <td>Log Reg</td>\n",
              "      <td>0.727273</td>\n",
              "      <td>Unigram</td>\n",
              "    </tr>\n",
              "    <tr>\n",
              "      <th>4</th>\n",
              "      <td>Naive Bayes</td>\n",
              "      <td>0.893939</td>\n",
              "      <td>Count Vector</td>\n",
              "    </tr>\n",
              "    <tr>\n",
              "      <th>5</th>\n",
              "      <td>Naive Bayes</td>\n",
              "      <td>0.666667</td>\n",
              "      <td>Word Level</td>\n",
              "    </tr>\n",
              "    <tr>\n",
              "      <th>6</th>\n",
              "      <td>Naive Bayes</td>\n",
              "      <td>0.621212</td>\n",
              "      <td>Bigram</td>\n",
              "    </tr>\n",
              "    <tr>\n",
              "      <th>7</th>\n",
              "      <td>Naive Bayes</td>\n",
              "      <td>0.651515</td>\n",
              "      <td>Unigram</td>\n",
              "    </tr>\n",
              "    <tr>\n",
              "      <th>8</th>\n",
              "      <td>SVM</td>\n",
              "      <td>0.787879</td>\n",
              "      <td>Count Vector</td>\n",
              "    </tr>\n",
              "    <tr>\n",
              "      <th>9</th>\n",
              "      <td>SVM</td>\n",
              "      <td>0.757576</td>\n",
              "      <td>Word Level</td>\n",
              "    </tr>\n",
              "    <tr>\n",
              "      <th>10</th>\n",
              "      <td>SVM</td>\n",
              "      <td>0.727273</td>\n",
              "      <td>Bigram</td>\n",
              "    </tr>\n",
              "    <tr>\n",
              "      <th>11</th>\n",
              "      <td>SVM</td>\n",
              "      <td>0.787879</td>\n",
              "      <td>Unigram</td>\n",
              "    </tr>\n",
              "  </tbody>\n",
              "</table>\n",
              "</div>"
            ],
            "text/plain": [
              "          Model    Recall       Feature\n",
              "0       Log Reg  0.757576  Count Vector\n",
              "1       Log Reg  0.666667    Word Level\n",
              "2       Log Reg  0.636364        Bigram\n",
              "3       Log Reg  0.727273       Unigram\n",
              "4   Naive Bayes  0.893939  Count Vector\n",
              "5   Naive Bayes  0.666667    Word Level\n",
              "6   Naive Bayes  0.621212        Bigram\n",
              "7   Naive Bayes  0.651515       Unigram\n",
              "8           SVM  0.787879  Count Vector\n",
              "9           SVM  0.757576    Word Level\n",
              "10          SVM  0.727273        Bigram\n",
              "11          SVM  0.787879       Unigram"
            ]
          },
          "metadata": {
            "tags": []
          },
          "execution_count": 17
        }
      ]
    },
    {
      "cell_type": "code",
      "metadata": {
        "colab": {
          "base_uri": "https://localhost:8080/",
          "height": 279
        },
        "id": "QRPuzN12ALmC",
        "outputId": "fda3841e-7be7-47c4-95fe-832e3d4e7c9c"
      },
      "source": [
        "# Plots\n",
        "# Recall\n",
        "plt_rec = sns.barplot(x = 'Model', y = 'Recall', hue = 'Feature', data = df_rec,\n",
        "            palette = 'hls',\n",
        "            order = ['Log Reg', 'Naive Bayes', 'SVM'],\n",
        "            )\n",
        "plt.legend(bbox_to_anchor=(1.05, 1.0), loc='upper left')\n",
        "# plt.show(plt_rec)\n",
        "plt.savefig('plt_rec.png',\n",
        "            dpi=300,\n",
        "            format='png',\n",
        "            bbox_inches='tight')\n",
        "# files.download('plt_rec.png')"
      ],
      "execution_count": null,
      "outputs": [
        {
          "output_type": "display_data",
          "data": {
            "image/png": "[encoded data removed]",
            "text/plain": [
              "<Figure size 432x288 with 1 Axes>"
            ]
          },
          "metadata": {
            "tags": [],
            "needs_background": "light"
          }
        }
      ]
    },
    {
      "cell_type": "code",
      "metadata": {
        "colab": {
          "base_uri": "https://localhost:8080/",
          "height": 426
        },
        "id": "IyOCZjH3Ap2F",
        "outputId": "14c0f592-7008-4cdd-8925-320910e176e5"
      },
      "source": [
        "#df f1\n",
        "df_f1 = pd.DataFrame()\n",
        "df_f1['Model'] = ['Log Reg','Log Reg','Log Reg','Log Reg','Naive Bayes','Naive Bayes','Naive Bayes','Naive Bayes','SVM','SVM','SVM','SVM']\n",
        "df_f1['F1'] = [f1_LRcv, f1_LRw, f1_LRbi, f1_LRun, f1_NBcv, f1_NBw, f1_NBbi, f1_NBun, f1_SVMcv, f1_SVMw, f1_SVMbi, f1_SVMun]\n",
        "df_f1['Feature'] = ['Count Vector','Word Level','Bigram','Unigram','Count Vector','Word Level','Bigram','Unigram','Count Vector','Word Level','Bigram','Unigram']\n",
        "df_f1"
      ],
      "execution_count": null,
      "outputs": [
        {
          "output_type": "execute_result",
          "data": {
            "text/html": [
              "<div>\n",
              "<style scoped>\n",
              "    .dataframe tbody tr th:only-of-type {\n",
              "        vertical-align: middle;\n",
              "    }\n",
              "\n",
              "    .dataframe tbody tr th {\n",
              "        vertical-align: top;\n",
              "    }\n",
              "\n",
              "    .dataframe thead th {\n",
              "        text-align: right;\n",
              "    }\n",
              "</style>\n",
              "<table border=\"1\" class=\"dataframe\">\n",
              "  <thead>\n",
              "    <tr style=\"text-align: right;\">\n",
              "      <th></th>\n",
              "      <th>Model</th>\n",
              "      <th>F1</th>\n",
              "      <th>Feature</th>\n",
              "    </tr>\n",
              "  </thead>\n",
              "  <tbody>\n",
              "    <tr>\n",
              "      <th>0</th>\n",
              "      <td>Log Reg</td>\n",
              "      <td>0.854701</td>\n",
              "      <td>Count Vector</td>\n",
              "    </tr>\n",
              "    <tr>\n",
              "      <th>1</th>\n",
              "      <td>Log Reg</td>\n",
              "      <td>0.752137</td>\n",
              "      <td>Word Level</td>\n",
              "    </tr>\n",
              "    <tr>\n",
              "      <th>2</th>\n",
              "      <td>Log Reg</td>\n",
              "      <td>0.743363</td>\n",
              "      <td>Bigram</td>\n",
              "    </tr>\n",
              "    <tr>\n",
              "      <th>3</th>\n",
              "      <td>Log Reg</td>\n",
              "      <td>0.800000</td>\n",
              "      <td>Unigram</td>\n",
              "    </tr>\n",
              "    <tr>\n",
              "      <th>4</th>\n",
              "      <td>Naive Bayes</td>\n",
              "      <td>0.836879</td>\n",
              "      <td>Count Vector</td>\n",
              "    </tr>\n",
              "    <tr>\n",
              "      <th>5</th>\n",
              "      <td>Naive Bayes</td>\n",
              "      <td>0.733333</td>\n",
              "      <td>Word Level</td>\n",
              "    </tr>\n",
              "    <tr>\n",
              "      <th>6</th>\n",
              "      <td>Naive Bayes</td>\n",
              "      <td>0.738739</td>\n",
              "      <td>Bigram</td>\n",
              "    </tr>\n",
              "    <tr>\n",
              "      <th>7</th>\n",
              "      <td>Naive Bayes</td>\n",
              "      <td>0.761062</td>\n",
              "      <td>Unigram</td>\n",
              "    </tr>\n",
              "    <tr>\n",
              "      <th>8</th>\n",
              "      <td>SVM</td>\n",
              "      <td>0.845528</td>\n",
              "      <td>Count Vector</td>\n",
              "    </tr>\n",
              "    <tr>\n",
              "      <th>9</th>\n",
              "      <td>SVM</td>\n",
              "      <td>0.800000</td>\n",
              "      <td>Word Level</td>\n",
              "    </tr>\n",
              "    <tr>\n",
              "      <th>10</th>\n",
              "      <td>SVM</td>\n",
              "      <td>0.820513</td>\n",
              "      <td>Bigram</td>\n",
              "    </tr>\n",
              "    <tr>\n",
              "      <th>11</th>\n",
              "      <td>SVM</td>\n",
              "      <td>0.838710</td>\n",
              "      <td>Unigram</td>\n",
              "    </tr>\n",
              "  </tbody>\n",
              "</table>\n",
              "</div>"
            ],
            "text/plain": [
              "          Model        F1       Feature\n",
              "0       Log Reg  0.854701  Count Vector\n",
              "1       Log Reg  0.752137    Word Level\n",
              "2       Log Reg  0.743363        Bigram\n",
              "3       Log Reg  0.800000       Unigram\n",
              "4   Naive Bayes  0.836879  Count Vector\n",
              "5   Naive Bayes  0.733333    Word Level\n",
              "6   Naive Bayes  0.738739        Bigram\n",
              "7   Naive Bayes  0.761062       Unigram\n",
              "8           SVM  0.845528  Count Vector\n",
              "9           SVM  0.800000    Word Level\n",
              "10          SVM  0.820513        Bigram\n",
              "11          SVM  0.838710       Unigram"
            ]
          },
          "metadata": {
            "tags": []
          },
          "execution_count": 19
        }
      ]
    },
    {
      "cell_type": "code",
      "metadata": {
        "colab": {
          "base_uri": "https://localhost:8080/",
          "height": 279
        },
        "id": "iLfxPNsVBLOg",
        "outputId": "b0ceff21-4a55-4898-b1a1-1ad4bbd86b6e"
      },
      "source": [
        "# Plots\n",
        "# F1\n",
        "plt_f1 = sns.barplot(x = 'Model', y = 'F1', hue = 'Feature', data = df_f1,\n",
        "            palette = 'hls',\n",
        "            order = ['Log Reg', 'Naive Bayes', 'SVM'],\n",
        "            )\n",
        "plt.legend(bbox_to_anchor=(1.05, 1.0), loc='upper left')\n",
        "# plt.show(plt_f1)\n",
        "plt.savefig('plt_f1.png',\n",
        "            dpi=300,\n",
        "            format='png',\n",
        "            bbox_inches='tight')\n",
        "# files.download('plt_f1.png')"
      ],
      "execution_count": null,
      "outputs": [
        {
          "output_type": "display_data",
          "data": {
            "image/png": "[encoded data removed]",
            "text/plain": [
              "<Figure size 432x288 with 1 Axes>"
            ]
          },
          "metadata": {
            "tags": [],
            "needs_background": "light"
          }
        }
      ]
    },
    {
      "cell_type": "code",
      "metadata": {
        "colab": {
          "base_uri": "https://localhost:8080/",
          "height": 426
        },
        "id": "FZnSl-btBpoi",
        "outputId": "cc2a8586-0db5-4ad3-c74e-e2548718d21a"
      },
      "source": [
        "#df AUC\n",
        "df_auc = pd.DataFrame()\n",
        "df_auc['Model'] = ['Log Reg','Log Reg','Log Reg','Log Reg','Naive Bayes','Naive Bayes','Naive Bayes','Naive Bayes','SVM','SVM','SVM','SVM']\n",
        "df_auc['AUC'] = [auc_LRcv, auc_LRw, auc_LRbi, auc_LRun, auc_NBcv, auc_NBw, auc_NBbi, auc_NBun, auc_SVMcv, auc_SVMw, auc_SVMbi, auc_SVMun]\n",
        "df_auc['Feature'] = ['Count Vector','Word Level','Bigram','Unigram','Count Vector','Word Level','Bigram','Unigram','Count Vector','Word Level','Bigram','Unigram']\n",
        "df_auc"
      ],
      "execution_count": null,
      "outputs": [
        {
          "output_type": "execute_result",
          "data": {
            "text/html": [
              "<div>\n",
              "<style scoped>\n",
              "    .dataframe tbody tr th:only-of-type {\n",
              "        vertical-align: middle;\n",
              "    }\n",
              "\n",
              "    .dataframe tbody tr th {\n",
              "        vertical-align: top;\n",
              "    }\n",
              "\n",
              "    .dataframe thead th {\n",
              "        text-align: right;\n",
              "    }\n",
              "</style>\n",
              "<table border=\"1\" class=\"dataframe\">\n",
              "  <thead>\n",
              "    <tr style=\"text-align: right;\">\n",
              "      <th></th>\n",
              "      <th>Model</th>\n",
              "      <th>AUC</th>\n",
              "      <th>Feature</th>\n",
              "    </tr>\n",
              "  </thead>\n",
              "  <tbody>\n",
              "    <tr>\n",
              "      <th>0</th>\n",
              "      <td>Log Reg</td>\n",
              "      <td>0.874586</td>\n",
              "      <td>Count Vector</td>\n",
              "    </tr>\n",
              "    <tr>\n",
              "      <th>1</th>\n",
              "      <td>Log Reg</td>\n",
              "      <td>0.803922</td>\n",
              "      <td>Word Level</td>\n",
              "    </tr>\n",
              "    <tr>\n",
              "      <th>2</th>\n",
              "      <td>Log Reg</td>\n",
              "      <td>0.797173</td>\n",
              "      <td>Bigram</td>\n",
              "    </tr>\n",
              "    <tr>\n",
              "      <th>3</th>\n",
              "      <td>Log Reg</td>\n",
              "      <td>0.838426</td>\n",
              "      <td>Unigram</td>\n",
              "    </tr>\n",
              "    <tr>\n",
              "      <th>4</th>\n",
              "      <td>Naive Bayes</td>\n",
              "      <td>0.879743</td>\n",
              "      <td>Count Vector</td>\n",
              "    </tr>\n",
              "    <tr>\n",
              "      <th>5</th>\n",
              "      <td>Naive Bayes</td>\n",
              "      <td>0.791317</td>\n",
              "      <td>Word Level</td>\n",
              "    </tr>\n",
              "    <tr>\n",
              "      <th>6</th>\n",
              "      <td>Naive Bayes</td>\n",
              "      <td>0.793799</td>\n",
              "      <td>Bigram</td>\n",
              "    </tr>\n",
              "    <tr>\n",
              "      <th>7</th>\n",
              "      <td>Naive Bayes</td>\n",
              "      <td>0.808951</td>\n",
              "      <td>Unigram</td>\n",
              "    </tr>\n",
              "    <tr>\n",
              "      <th>8</th>\n",
              "      <td>SVM</td>\n",
              "      <td>0.872931</td>\n",
              "      <td>Count Vector</td>\n",
              "    </tr>\n",
              "    <tr>\n",
              "      <th>9</th>\n",
              "      <td>SVM</td>\n",
              "      <td>0.840973</td>\n",
              "      <td>Word Level</td>\n",
              "    </tr>\n",
              "    <tr>\n",
              "      <th>10</th>\n",
              "      <td>SVM</td>\n",
              "      <td>0.851031</td>\n",
              "      <td>Bigram</td>\n",
              "    </tr>\n",
              "    <tr>\n",
              "      <th>11</th>\n",
              "      <td>SVM</td>\n",
              "      <td>0.868729</td>\n",
              "      <td>Unigram</td>\n",
              "    </tr>\n",
              "  </tbody>\n",
              "</table>\n",
              "</div>"
            ],
            "text/plain": [
              "          Model       AUC       Feature\n",
              "0       Log Reg  0.874586  Count Vector\n",
              "1       Log Reg  0.803922    Word Level\n",
              "2       Log Reg  0.797173        Bigram\n",
              "3       Log Reg  0.838426       Unigram\n",
              "4   Naive Bayes  0.879743  Count Vector\n",
              "5   Naive Bayes  0.791317    Word Level\n",
              "6   Naive Bayes  0.793799        Bigram\n",
              "7   Naive Bayes  0.808951       Unigram\n",
              "8           SVM  0.872931  Count Vector\n",
              "9           SVM  0.840973    Word Level\n",
              "10          SVM  0.851031        Bigram\n",
              "11          SVM  0.868729       Unigram"
            ]
          },
          "metadata": {
            "tags": []
          },
          "execution_count": 21
        }
      ]
    },
    {
      "cell_type": "code",
      "metadata": {
        "colab": {
          "base_uri": "https://localhost:8080/",
          "height": 279
        },
        "id": "Rq48D6MWJOqw",
        "outputId": "b56b4e2f-2fa4-4e48-f106-e2a7329d1011"
      },
      "source": [
        "# Plots\n",
        "# AUC\n",
        "plt_auc = sns.barplot(x = 'Model', y = 'AUC', hue = 'Feature', data = df_auc,\n",
        "            palette = 'hls',\n",
        "            order = ['Log Reg', 'Naive Bayes', 'SVM'],\n",
        "            )\n",
        "plt.legend(bbox_to_anchor=(1.05, 1.0), loc='upper left')\n",
        "# plt.show(plt_f1)\n",
        "plt.savefig('plt_auc.png',\n",
        "            dpi=300,\n",
        "            format='png',\n",
        "            bbox_inches='tight')\n",
        "# files.download('plt_auc.png')"
      ],
      "execution_count": null,
      "outputs": [
        {
          "output_type": "display_data",
          "data": {
            "image/png": "[encoded data removed]",
            "text/plain": [
              "<Figure size 432x288 with 1 Axes>"
            ]
          },
          "metadata": {
            "tags": [],
            "needs_background": "light"
          }
        }
      ]
    },
    {
      "cell_type": "code",
      "metadata": {
        "id": "F5IbyIitJm9S"
      },
      "source": [
        "# diff between count vec and td-idf vec\n",
        "# https://www.quora.com/What-is-the-difference-between-TfidfVectorizer-and-CountVectorizer-1?share=1\n"
      ],
      "execution_count": null,
      "outputs": []
    }
  ]
}